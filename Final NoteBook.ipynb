{
 "cells": [
  {
   "cell_type": "markdown",
   "id": "7a40eb9d",
   "metadata": {},
   "source": [
    "# Microsoft Movie Studio"
   ]
  },
  {
   "cell_type": "markdown",
   "id": "4da6ea39",
   "metadata": {},
   "source": [
    "# Overview"
   ]
  },
  {
   "cell_type": "markdown",
   "id": "3bf90dd4",
   "metadata": {},
   "source": [
    "This project analyzes the <span style='color:blue'>global film market landscape</span>. Currently, countless movies are pouring out into the film market, and a lot of video content studios invest large amounts of money to create movies. So, this analysis will **help <span style='color:purple'>Microsoft Movie Studio</span> make the right decision in deploying their business strategy successfully while entering the new business domain .** So, this analysis focuses on **What genre of movie to Make, How Much to Invest, and When to release it.**"
   ]
  },
  {
   "cell_type": "markdown",
   "id": "f2a85c29",
   "metadata": {},
   "source": [
    "# Business Problem"
   ]
  },
  {
   "cell_type": "markdown",
   "id": "335e184e",
   "metadata": {},
   "source": [
    "Microsoft sees all the big companies creating original video content and they want to get in on the fun. They have decided to create a new movie studio, but they don’t know anything about creating movies. The initial problem being that. Microsoft is going to enter a new business field and develop new revenue streams, and they want to ensure the success of the first-time project. So, I will explore **<span style='color:red'>what kind of movies, what budget-size of movies</span>** are currently doing the best at the box office, and then translates those findings into ***actionable insights*** that the head of Microsoft's new movie studio can use to decide what kind and what size of movies to create and when is the best release time."
   ]
  },
  {
   "cell_type": "markdown",
   "id": "7f00a891",
   "metadata": {},
   "source": [
    "# Data Understanding\n",
    "The datasets were collected from 'The Numbers' and 'IMDB'.   \n",
    "These data files provide the release date, production budgets, domestic and foreign gross, genres of each movie, as well as movie titles."
   ]
  },
  {
   "cell_type": "code",
   "execution_count": 181,
   "id": "12a341f3",
   "metadata": {},
   "outputs": [],
   "source": [
    "import pandas as pd\n",
    "import numpy as np\n",
    "import matplotlib.pyplot as plt\n",
    "%matplotlib inline"
   ]
  },
  {
   "cell_type": "markdown",
   "id": "06c0ae6e",
   "metadata": {},
   "source": [
    "## <span style='color:blue'>The Numbers Dataset</span>"
   ]
  },
  {
   "cell_type": "code",
   "execution_count": 182,
   "id": "b8a785e3",
   "metadata": {},
   "outputs": [
    {
     "name": "stdout",
     "output_type": "stream",
     "text": [
      "<class 'pandas.core.frame.DataFrame'>\n",
      "RangeIndex: 5782 entries, 0 to 5781\n",
      "Data columns (total 6 columns):\n",
      " #   Column             Non-Null Count  Dtype \n",
      "---  ------             --------------  ----- \n",
      " 0   id                 5782 non-null   int64 \n",
      " 1   release_date       5782 non-null   object\n",
      " 2   movie              5782 non-null   object\n",
      " 3   production_budget  5782 non-null   object\n",
      " 4   domestic_gross     5782 non-null   object\n",
      " 5   worldwide_gross    5782 non-null   object\n",
      "dtypes: int64(1), object(5)\n",
      "memory usage: 271.2+ KB\n"
     ]
    }
   ],
   "source": [
    "movie_budgets = pd.read_csv(\"zippedData/tn.movie_budgets.csv.gz\")\n",
    "movie_budgets.info()"
   ]
  },
  {
   "cell_type": "code",
   "execution_count": 183,
   "id": "6d0882d7",
   "metadata": {},
   "outputs": [
    {
     "data": {
      "text/html": [
       "<div>\n",
       "<style scoped>\n",
       "    .dataframe tbody tr th:only-of-type {\n",
       "        vertical-align: middle;\n",
       "    }\n",
       "\n",
       "    .dataframe tbody tr th {\n",
       "        vertical-align: top;\n",
       "    }\n",
       "\n",
       "    .dataframe thead th {\n",
       "        text-align: right;\n",
       "    }\n",
       "</style>\n",
       "<table border=\"1\" class=\"dataframe\">\n",
       "  <thead>\n",
       "    <tr style=\"text-align: right;\">\n",
       "      <th></th>\n",
       "      <th>id</th>\n",
       "      <th>release_date</th>\n",
       "      <th>movie</th>\n",
       "      <th>production_budget</th>\n",
       "      <th>domestic_gross</th>\n",
       "      <th>worldwide_gross</th>\n",
       "    </tr>\n",
       "  </thead>\n",
       "  <tbody>\n",
       "    <tr>\n",
       "      <th>0</th>\n",
       "      <td>1</td>\n",
       "      <td>Dec 18, 2009</td>\n",
       "      <td>Avatar</td>\n",
       "      <td>$425,000,000</td>\n",
       "      <td>$760,507,625</td>\n",
       "      <td>$2,776,345,279</td>\n",
       "    </tr>\n",
       "    <tr>\n",
       "      <th>1</th>\n",
       "      <td>2</td>\n",
       "      <td>May 20, 2011</td>\n",
       "      <td>Pirates of the Caribbean: On Stranger Tides</td>\n",
       "      <td>$410,600,000</td>\n",
       "      <td>$241,063,875</td>\n",
       "      <td>$1,045,663,875</td>\n",
       "    </tr>\n",
       "    <tr>\n",
       "      <th>2</th>\n",
       "      <td>3</td>\n",
       "      <td>Jun 7, 2019</td>\n",
       "      <td>Dark Phoenix</td>\n",
       "      <td>$350,000,000</td>\n",
       "      <td>$42,762,350</td>\n",
       "      <td>$149,762,350</td>\n",
       "    </tr>\n",
       "    <tr>\n",
       "      <th>3</th>\n",
       "      <td>4</td>\n",
       "      <td>May 1, 2015</td>\n",
       "      <td>Avengers: Age of Ultron</td>\n",
       "      <td>$330,600,000</td>\n",
       "      <td>$459,005,868</td>\n",
       "      <td>$1,403,013,963</td>\n",
       "    </tr>\n",
       "    <tr>\n",
       "      <th>4</th>\n",
       "      <td>5</td>\n",
       "      <td>Dec 15, 2017</td>\n",
       "      <td>Star Wars Ep. VIII: The Last Jedi</td>\n",
       "      <td>$317,000,000</td>\n",
       "      <td>$620,181,382</td>\n",
       "      <td>$1,316,721,747</td>\n",
       "    </tr>\n",
       "  </tbody>\n",
       "</table>\n",
       "</div>"
      ],
      "text/plain": [
       "   id  release_date                                        movie  \\\n",
       "0   1  Dec 18, 2009                                       Avatar   \n",
       "1   2  May 20, 2011  Pirates of the Caribbean: On Stranger Tides   \n",
       "2   3   Jun 7, 2019                                 Dark Phoenix   \n",
       "3   4   May 1, 2015                      Avengers: Age of Ultron   \n",
       "4   5  Dec 15, 2017            Star Wars Ep. VIII: The Last Jedi   \n",
       "\n",
       "  production_budget domestic_gross worldwide_gross  \n",
       "0      $425,000,000   $760,507,625  $2,776,345,279  \n",
       "1      $410,600,000   $241,063,875  $1,045,663,875  \n",
       "2      $350,000,000    $42,762,350    $149,762,350  \n",
       "3      $330,600,000   $459,005,868  $1,403,013,963  \n",
       "4      $317,000,000   $620,181,382  $1,316,721,747  "
      ]
     },
     "execution_count": 183,
     "metadata": {},
     "output_type": "execute_result"
    }
   ],
   "source": [
    "movie_budgets.head()"
   ]
  },
  {
   "cell_type": "markdown",
   "id": "3c9a0061",
   "metadata": {},
   "source": [
    "**- Change the \"release_date\" data type from object to datetime**"
   ]
  },
  {
   "cell_type": "code",
   "execution_count": 184,
   "id": "1e6f774b",
   "metadata": {},
   "outputs": [
    {
     "data": {
      "text/html": [
       "<div>\n",
       "<style scoped>\n",
       "    .dataframe tbody tr th:only-of-type {\n",
       "        vertical-align: middle;\n",
       "    }\n",
       "\n",
       "    .dataframe tbody tr th {\n",
       "        vertical-align: top;\n",
       "    }\n",
       "\n",
       "    .dataframe thead th {\n",
       "        text-align: right;\n",
       "    }\n",
       "</style>\n",
       "<table border=\"1\" class=\"dataframe\">\n",
       "  <thead>\n",
       "    <tr style=\"text-align: right;\">\n",
       "      <th></th>\n",
       "      <th>id</th>\n",
       "      <th>release_date</th>\n",
       "      <th>movie</th>\n",
       "      <th>production_budget</th>\n",
       "      <th>domestic_gross</th>\n",
       "      <th>worldwide_gross</th>\n",
       "    </tr>\n",
       "  </thead>\n",
       "  <tbody>\n",
       "    <tr>\n",
       "      <th>194</th>\n",
       "      <td>95</td>\n",
       "      <td>2020-12-31</td>\n",
       "      <td>Moonfall</td>\n",
       "      <td>$150,000,000</td>\n",
       "      <td>$0</td>\n",
       "      <td>$0</td>\n",
       "    </tr>\n",
       "    <tr>\n",
       "      <th>1205</th>\n",
       "      <td>6</td>\n",
       "      <td>2020-12-31</td>\n",
       "      <td>Hannibal the Conqueror</td>\n",
       "      <td>$50,000,000</td>\n",
       "      <td>$0</td>\n",
       "      <td>$0</td>\n",
       "    </tr>\n",
       "    <tr>\n",
       "      <th>535</th>\n",
       "      <td>36</td>\n",
       "      <td>2020-02-21</td>\n",
       "      <td>Call of the Wild</td>\n",
       "      <td>$82,000,000</td>\n",
       "      <td>$0</td>\n",
       "      <td>$0</td>\n",
       "    </tr>\n",
       "    <tr>\n",
       "      <th>480</th>\n",
       "      <td>81</td>\n",
       "      <td>2019-12-31</td>\n",
       "      <td>Army of the Dead</td>\n",
       "      <td>$90,000,000</td>\n",
       "      <td>$0</td>\n",
       "      <td>$0</td>\n",
       "    </tr>\n",
       "    <tr>\n",
       "      <th>3515</th>\n",
       "      <td>16</td>\n",
       "      <td>2019-12-31</td>\n",
       "      <td>Eli</td>\n",
       "      <td>$11,000,000</td>\n",
       "      <td>$0</td>\n",
       "      <td>$0</td>\n",
       "    </tr>\n",
       "    <tr>\n",
       "      <th>...</th>\n",
       "      <td>...</td>\n",
       "      <td>...</td>\n",
       "      <td>...</td>\n",
       "      <td>...</td>\n",
       "      <td>...</td>\n",
       "      <td>...</td>\n",
       "    </tr>\n",
       "    <tr>\n",
       "      <th>5606</th>\n",
       "      <td>7</td>\n",
       "      <td>1925-11-19</td>\n",
       "      <td>The Big Parade</td>\n",
       "      <td>$245,000</td>\n",
       "      <td>$11,000,000</td>\n",
       "      <td>$22,000,000</td>\n",
       "    </tr>\n",
       "    <tr>\n",
       "      <th>5683</th>\n",
       "      <td>84</td>\n",
       "      <td>1920-09-17</td>\n",
       "      <td>Over the Hill to the Poorhouse</td>\n",
       "      <td>$100,000</td>\n",
       "      <td>$3,000,000</td>\n",
       "      <td>$3,000,000</td>\n",
       "    </tr>\n",
       "    <tr>\n",
       "      <th>5614</th>\n",
       "      <td>15</td>\n",
       "      <td>1916-12-24</td>\n",
       "      <td>20,000 Leagues Under the Sea</td>\n",
       "      <td>$200,000</td>\n",
       "      <td>$8,000,000</td>\n",
       "      <td>$8,000,000</td>\n",
       "    </tr>\n",
       "    <tr>\n",
       "      <th>5523</th>\n",
       "      <td>24</td>\n",
       "      <td>1916-09-05</td>\n",
       "      <td>Intolerance</td>\n",
       "      <td>$385,907</td>\n",
       "      <td>$0</td>\n",
       "      <td>$0</td>\n",
       "    </tr>\n",
       "    <tr>\n",
       "      <th>5677</th>\n",
       "      <td>78</td>\n",
       "      <td>1915-02-08</td>\n",
       "      <td>The Birth of a Nation</td>\n",
       "      <td>$110,000</td>\n",
       "      <td>$10,000,000</td>\n",
       "      <td>$11,000,000</td>\n",
       "    </tr>\n",
       "  </tbody>\n",
       "</table>\n",
       "<p>5782 rows × 6 columns</p>\n",
       "</div>"
      ],
      "text/plain": [
       "      id release_date                           movie production_budget  \\\n",
       "194   95   2020-12-31                        Moonfall      $150,000,000   \n",
       "1205   6   2020-12-31          Hannibal the Conqueror       $50,000,000   \n",
       "535   36   2020-02-21                Call of the Wild       $82,000,000   \n",
       "480   81   2019-12-31                Army of the Dead       $90,000,000   \n",
       "3515  16   2019-12-31                             Eli       $11,000,000   \n",
       "...   ..          ...                             ...               ...   \n",
       "5606   7   1925-11-19                  The Big Parade          $245,000   \n",
       "5683  84   1920-09-17  Over the Hill to the Poorhouse          $100,000   \n",
       "5614  15   1916-12-24    20,000 Leagues Under the Sea          $200,000   \n",
       "5523  24   1916-09-05                     Intolerance          $385,907   \n",
       "5677  78   1915-02-08           The Birth of a Nation          $110,000   \n",
       "\n",
       "     domestic_gross worldwide_gross  \n",
       "194              $0              $0  \n",
       "1205             $0              $0  \n",
       "535              $0              $0  \n",
       "480              $0              $0  \n",
       "3515             $0              $0  \n",
       "...             ...             ...  \n",
       "5606    $11,000,000     $22,000,000  \n",
       "5683     $3,000,000      $3,000,000  \n",
       "5614     $8,000,000      $8,000,000  \n",
       "5523             $0              $0  \n",
       "5677    $10,000,000     $11,000,000  \n",
       "\n",
       "[5782 rows x 6 columns]"
      ]
     },
     "execution_count": 184,
     "metadata": {},
     "output_type": "execute_result"
    }
   ],
   "source": [
    "movie_budgets['release_date'] = pd.to_datetime(movie_budgets['release_date'])\n",
    "movie_budgets.sort_values(by='release_date', ascending=False)"
   ]
  },
  {
   "cell_type": "markdown",
   "id": "92f4bcb9",
   "metadata": {},
   "source": [
    "This data shows the budget and sales performance for each movie from 1915 to 2020."
   ]
  },
  {
   "cell_type": "markdown",
   "id": "c5a5f6df",
   "metadata": {},
   "source": [
    "## <span style='color:blue'>The imdb dataset</span>"
   ]
  },
  {
   "cell_type": "code",
   "execution_count": 185,
   "id": "97cad0e1",
   "metadata": {},
   "outputs": [
    {
     "name": "stdout",
     "output_type": "stream",
     "text": [
      "Archive:  zippedData/im.db.zip\r\n"
     ]
    }
   ],
   "source": [
    "! unzip -n zippedData/im.db.zip"
   ]
  },
  {
   "cell_type": "code",
   "execution_count": 186,
   "id": "18439c3e",
   "metadata": {},
   "outputs": [],
   "source": [
    "import sqlite3"
   ]
  },
  {
   "cell_type": "code",
   "execution_count": 187,
   "id": "654bc1bc",
   "metadata": {},
   "outputs": [],
   "source": [
    "conn = sqlite3.connect(\"im.db\")"
   ]
  },
  {
   "cell_type": "code",
   "execution_count": 188,
   "id": "9fcef154",
   "metadata": {},
   "outputs": [
    {
     "name": "stdout",
     "output_type": "stream",
     "text": [
      "<class 'pandas.core.frame.DataFrame'>\n",
      "RangeIndex: 146144 entries, 0 to 146143\n",
      "Data columns (total 6 columns):\n",
      " #   Column           Non-Null Count   Dtype  \n",
      "---  ------           --------------   -----  \n",
      " 0   movie_id         146144 non-null  object \n",
      " 1   primary_title    146144 non-null  object \n",
      " 2   original_title   146123 non-null  object \n",
      " 3   start_year       146144 non-null  int64  \n",
      " 4   runtime_minutes  114405 non-null  float64\n",
      " 5   genres           140736 non-null  object \n",
      "dtypes: float64(1), int64(1), object(4)\n",
      "memory usage: 6.7+ MB\n"
     ]
    }
   ],
   "source": [
    "movie_basics = pd.read_sql(\"SELECT * FROM movie_basics;\", conn)\n",
    "movie_basics.info()"
   ]
  },
  {
   "cell_type": "code",
   "execution_count": 189,
   "id": "fa6cff08",
   "metadata": {},
   "outputs": [
    {
     "data": {
      "text/html": [
       "<div>\n",
       "<style scoped>\n",
       "    .dataframe tbody tr th:only-of-type {\n",
       "        vertical-align: middle;\n",
       "    }\n",
       "\n",
       "    .dataframe tbody tr th {\n",
       "        vertical-align: top;\n",
       "    }\n",
       "\n",
       "    .dataframe thead th {\n",
       "        text-align: right;\n",
       "    }\n",
       "</style>\n",
       "<table border=\"1\" class=\"dataframe\">\n",
       "  <thead>\n",
       "    <tr style=\"text-align: right;\">\n",
       "      <th></th>\n",
       "      <th>movie_id</th>\n",
       "      <th>primary_title</th>\n",
       "      <th>original_title</th>\n",
       "      <th>start_year</th>\n",
       "      <th>runtime_minutes</th>\n",
       "      <th>genres</th>\n",
       "    </tr>\n",
       "  </thead>\n",
       "  <tbody>\n",
       "    <tr>\n",
       "      <th>0</th>\n",
       "      <td>tt0063540</td>\n",
       "      <td>Sunghursh</td>\n",
       "      <td>Sunghursh</td>\n",
       "      <td>2013</td>\n",
       "      <td>175.0</td>\n",
       "      <td>Action,Crime,Drama</td>\n",
       "    </tr>\n",
       "    <tr>\n",
       "      <th>1</th>\n",
       "      <td>tt0066787</td>\n",
       "      <td>One Day Before the Rainy Season</td>\n",
       "      <td>Ashad Ka Ek Din</td>\n",
       "      <td>2019</td>\n",
       "      <td>114.0</td>\n",
       "      <td>Biography,Drama</td>\n",
       "    </tr>\n",
       "    <tr>\n",
       "      <th>2</th>\n",
       "      <td>tt0069049</td>\n",
       "      <td>The Other Side of the Wind</td>\n",
       "      <td>The Other Side of the Wind</td>\n",
       "      <td>2018</td>\n",
       "      <td>122.0</td>\n",
       "      <td>Drama</td>\n",
       "    </tr>\n",
       "    <tr>\n",
       "      <th>3</th>\n",
       "      <td>tt0069204</td>\n",
       "      <td>Sabse Bada Sukh</td>\n",
       "      <td>Sabse Bada Sukh</td>\n",
       "      <td>2018</td>\n",
       "      <td>NaN</td>\n",
       "      <td>Comedy,Drama</td>\n",
       "    </tr>\n",
       "    <tr>\n",
       "      <th>4</th>\n",
       "      <td>tt0100275</td>\n",
       "      <td>The Wandering Soap Opera</td>\n",
       "      <td>La Telenovela Errante</td>\n",
       "      <td>2017</td>\n",
       "      <td>80.0</td>\n",
       "      <td>Comedy,Drama,Fantasy</td>\n",
       "    </tr>\n",
       "  </tbody>\n",
       "</table>\n",
       "</div>"
      ],
      "text/plain": [
       "    movie_id                    primary_title              original_title  \\\n",
       "0  tt0063540                        Sunghursh                   Sunghursh   \n",
       "1  tt0066787  One Day Before the Rainy Season             Ashad Ka Ek Din   \n",
       "2  tt0069049       The Other Side of the Wind  The Other Side of the Wind   \n",
       "3  tt0069204                  Sabse Bada Sukh             Sabse Bada Sukh   \n",
       "4  tt0100275         The Wandering Soap Opera       La Telenovela Errante   \n",
       "\n",
       "   start_year  runtime_minutes                genres  \n",
       "0        2013            175.0    Action,Crime,Drama  \n",
       "1        2019            114.0       Biography,Drama  \n",
       "2        2018            122.0                 Drama  \n",
       "3        2018              NaN          Comedy,Drama  \n",
       "4        2017             80.0  Comedy,Drama,Fantasy  "
      ]
     },
     "execution_count": 189,
     "metadata": {},
     "output_type": "execute_result"
    }
   ],
   "source": [
    "movie_basics.head()"
   ]
  },
  {
   "cell_type": "markdown",
   "id": "20c3c0e5",
   "metadata": {},
   "source": [
    "This dataset contains records showing the title and genres of each movie."
   ]
  },
  {
   "cell_type": "markdown",
   "id": "77baa857",
   "metadata": {},
   "source": [
    "# Data Preparation"
   ]
  },
  {
   "cell_type": "markdown",
   "id": "3a4e41d3",
   "metadata": {},
   "source": [
    "## <span style='color:blue'>The Numbers Dataset</span>"
   ]
  },
  {
   "cell_type": "code",
   "execution_count": 190,
   "id": "d56946da",
   "metadata": {},
   "outputs": [
    {
     "name": "stdout",
     "output_type": "stream",
     "text": [
      "<class 'pandas.core.frame.DataFrame'>\n",
      "RangeIndex: 5782 entries, 0 to 5781\n",
      "Data columns (total 6 columns):\n",
      " #   Column             Non-Null Count  Dtype         \n",
      "---  ------             --------------  -----         \n",
      " 0   id                 5782 non-null   int64         \n",
      " 1   release_date       5782 non-null   datetime64[ns]\n",
      " 2   movie              5782 non-null   object        \n",
      " 3   production_budget  5782 non-null   object        \n",
      " 4   domestic_gross     5782 non-null   object        \n",
      " 5   worldwide_gross    5782 non-null   object        \n",
      "dtypes: datetime64[ns](1), int64(1), object(4)\n",
      "memory usage: 271.2+ KB\n"
     ]
    }
   ],
   "source": [
    "movie_budgets.info()"
   ]
  },
  {
   "cell_type": "markdown",
   "id": "b65c0480",
   "metadata": {},
   "source": [
    "*- Drop unnecessary column, and Change column name*"
   ]
  },
  {
   "cell_type": "code",
   "execution_count": 191,
   "id": "ae98378c",
   "metadata": {},
   "outputs": [],
   "source": [
    "# Drop unnecessary 'id' column\n",
    "\n",
    "movie_budgets = movie_budgets.drop(columns=['id'])"
   ]
  },
  {
   "cell_type": "code",
   "execution_count": 192,
   "id": "f1669186",
   "metadata": {},
   "outputs": [],
   "source": [
    "# For the merge of two dataframe, unifying the column name\n",
    "\n",
    "movie_budgets = movie_budgets.rename(columns={'movie':'movie_title'})"
   ]
  },
  {
   "cell_type": "markdown",
   "id": "7d9989d8",
   "metadata": {},
   "source": [
    "*- For the ROI calculation, change the 'budgets' and 'gross' data type from object to int*"
   ]
  },
  {
   "cell_type": "code",
   "execution_count": 193,
   "id": "82345af0",
   "metadata": {},
   "outputs": [],
   "source": [
    "movie_budgets['production_budget']=movie_budgets['production_budget'].str.replace(pat=r'[^\\w]', repl=r'', regex=True).astype('int64')"
   ]
  },
  {
   "cell_type": "code",
   "execution_count": 194,
   "id": "14c343cc",
   "metadata": {},
   "outputs": [],
   "source": [
    "movie_budgets['domestic_gross'] = movie_budgets['domestic_gross'].str.replace(pat=r'[^\\w]', repl=r'', regex=True).astype('int64')"
   ]
  },
  {
   "cell_type": "code",
   "execution_count": 195,
   "id": "5c02a332",
   "metadata": {},
   "outputs": [],
   "source": [
    "movie_budgets['worldwide_gross'] = movie_budgets['worldwide_gross'].str.replace(pat=r'[^\\w]', repl=r'', regex=True).astype('int64')"
   ]
  },
  {
   "cell_type": "markdown",
   "id": "d957769e",
   "metadata": {},
   "source": [
    "*-Make new column('release_month', 'total_gross', 'return_on_investment') and Drop 'o' value 'return_on_investment' rows*"
   ]
  },
  {
   "cell_type": "code",
   "execution_count": 196,
   "id": "8eefe341",
   "metadata": {},
   "outputs": [],
   "source": [
    "# Make new column - 'Release Month'\n",
    "\n",
    "movie_budgets['release_month'] = movie_budgets['release_date'].dt.month"
   ]
  },
  {
   "cell_type": "code",
   "execution_count": 197,
   "id": "62642793",
   "metadata": {},
   "outputs": [],
   "source": [
    "# Calculate R O I (Return on Investment = Total Gross / Production Budget )\n",
    "# Make new column - 'return_on_investment'\n",
    "\n",
    "movie_budgets['total_gross'] = movie_budgets['domestic_gross'] + movie_budgets['worldwide_gross']\n",
    "movie_budgets['return_on_investment'] = ( round(movie_budgets['total_gross'] / \n",
    "                                                                   movie_budgets['production_budget'], 2).astype('float') )"
   ]
  },
  {
   "cell_type": "code",
   "execution_count": 198,
   "id": "d0fbf48b",
   "metadata": {},
   "outputs": [],
   "source": [
    "# Drop the '0' ROI rows\n",
    "\n",
    "movie_budgets = movie_budgets[movie_budgets.return_on_investment != 0]"
   ]
  },
  {
   "cell_type": "code",
   "execution_count": 199,
   "id": "d63b6117",
   "metadata": {},
   "outputs": [
    {
     "data": {
      "text/html": [
       "<div>\n",
       "<style scoped>\n",
       "    .dataframe tbody tr th:only-of-type {\n",
       "        vertical-align: middle;\n",
       "    }\n",
       "\n",
       "    .dataframe tbody tr th {\n",
       "        vertical-align: top;\n",
       "    }\n",
       "\n",
       "    .dataframe thead th {\n",
       "        text-align: right;\n",
       "    }\n",
       "</style>\n",
       "<table border=\"1\" class=\"dataframe\">\n",
       "  <thead>\n",
       "    <tr style=\"text-align: right;\">\n",
       "      <th></th>\n",
       "      <th>release_date</th>\n",
       "      <th>movie_title</th>\n",
       "      <th>production_budget</th>\n",
       "      <th>domestic_gross</th>\n",
       "      <th>worldwide_gross</th>\n",
       "      <th>release_month</th>\n",
       "      <th>total_gross</th>\n",
       "      <th>return_on_investment</th>\n",
       "    </tr>\n",
       "  </thead>\n",
       "  <tbody>\n",
       "    <tr>\n",
       "      <th>0</th>\n",
       "      <td>2009-12-18</td>\n",
       "      <td>Avatar</td>\n",
       "      <td>425.0</td>\n",
       "      <td>760507625</td>\n",
       "      <td>2776345279</td>\n",
       "      <td>12</td>\n",
       "      <td>3536852904</td>\n",
       "      <td>8.32</td>\n",
       "    </tr>\n",
       "    <tr>\n",
       "      <th>1</th>\n",
       "      <td>2011-05-20</td>\n",
       "      <td>Pirates of the Caribbean: On Stranger Tides</td>\n",
       "      <td>410.6</td>\n",
       "      <td>241063875</td>\n",
       "      <td>1045663875</td>\n",
       "      <td>5</td>\n",
       "      <td>1286727750</td>\n",
       "      <td>3.13</td>\n",
       "    </tr>\n",
       "    <tr>\n",
       "      <th>2</th>\n",
       "      <td>2019-06-07</td>\n",
       "      <td>Dark Phoenix</td>\n",
       "      <td>350.0</td>\n",
       "      <td>42762350</td>\n",
       "      <td>149762350</td>\n",
       "      <td>6</td>\n",
       "      <td>192524700</td>\n",
       "      <td>0.55</td>\n",
       "    </tr>\n",
       "    <tr>\n",
       "      <th>3</th>\n",
       "      <td>2015-05-01</td>\n",
       "      <td>Avengers: Age of Ultron</td>\n",
       "      <td>330.6</td>\n",
       "      <td>459005868</td>\n",
       "      <td>1403013963</td>\n",
       "      <td>5</td>\n",
       "      <td>1862019831</td>\n",
       "      <td>5.63</td>\n",
       "    </tr>\n",
       "    <tr>\n",
       "      <th>4</th>\n",
       "      <td>2017-12-15</td>\n",
       "      <td>Star Wars Ep. VIII: The Last Jedi</td>\n",
       "      <td>317.0</td>\n",
       "      <td>620181382</td>\n",
       "      <td>1316721747</td>\n",
       "      <td>12</td>\n",
       "      <td>1936903129</td>\n",
       "      <td>6.11</td>\n",
       "    </tr>\n",
       "  </tbody>\n",
       "</table>\n",
       "</div>"
      ],
      "text/plain": [
       "  release_date                                  movie_title  \\\n",
       "0   2009-12-18                                       Avatar   \n",
       "1   2011-05-20  Pirates of the Caribbean: On Stranger Tides   \n",
       "2   2019-06-07                                 Dark Phoenix   \n",
       "3   2015-05-01                      Avengers: Age of Ultron   \n",
       "4   2017-12-15            Star Wars Ep. VIII: The Last Jedi   \n",
       "\n",
       "   production_budget  domestic_gross  worldwide_gross  release_month  \\\n",
       "0              425.0       760507625       2776345279             12   \n",
       "1              410.6       241063875       1045663875              5   \n",
       "2              350.0        42762350        149762350              6   \n",
       "3              330.6       459005868       1403013963              5   \n",
       "4              317.0       620181382       1316721747             12   \n",
       "\n",
       "   total_gross  return_on_investment  \n",
       "0   3536852904                  8.32  \n",
       "1   1286727750                  3.13  \n",
       "2    192524700                  0.55  \n",
       "3   1862019831                  5.63  \n",
       "4   1936903129                  6.11  "
      ]
     },
     "execution_count": 199,
     "metadata": {},
     "output_type": "execute_result"
    }
   ],
   "source": [
    "# Change the 'production_budget' unit to 'Million Dollar'\n",
    "\n",
    "movie_budgets['production_budget'] = round(movie_budgets['production_budget'] / 1000000, 2)\n",
    "movie_budgets.head()"
   ]
  },
  {
   "cell_type": "code",
   "execution_count": 200,
   "id": "fa36c841",
   "metadata": {},
   "outputs": [
    {
     "name": "stdout",
     "output_type": "stream",
     "text": [
      "<class 'pandas.core.frame.DataFrame'>\n",
      "Int64Index: 5361 entries, 0 to 5781\n",
      "Data columns (total 8 columns):\n",
      " #   Column                Non-Null Count  Dtype         \n",
      "---  ------                --------------  -----         \n",
      " 0   release_date          5361 non-null   datetime64[ns]\n",
      " 1   movie_title           5361 non-null   object        \n",
      " 2   production_budget     5361 non-null   float64       \n",
      " 3   domestic_gross        5361 non-null   int64         \n",
      " 4   worldwide_gross       5361 non-null   int64         \n",
      " 5   release_month         5361 non-null   int64         \n",
      " 6   total_gross           5361 non-null   int64         \n",
      " 7   return_on_investment  5361 non-null   float64       \n",
      "dtypes: datetime64[ns](1), float64(2), int64(4), object(1)\n",
      "memory usage: 376.9+ KB\n"
     ]
    }
   ],
   "source": [
    "movie_budgets.info()"
   ]
  },
  {
   "cell_type": "markdown",
   "id": "c99a161c",
   "metadata": {},
   "source": [
    "*-Filtering the necessary columns*"
   ]
  },
  {
   "cell_type": "code",
   "execution_count": 201,
   "id": "25d83f90",
   "metadata": {},
   "outputs": [
    {
     "data": {
      "text/html": [
       "<div>\n",
       "<style scoped>\n",
       "    .dataframe tbody tr th:only-of-type {\n",
       "        vertical-align: middle;\n",
       "    }\n",
       "\n",
       "    .dataframe tbody tr th {\n",
       "        vertical-align: top;\n",
       "    }\n",
       "\n",
       "    .dataframe thead th {\n",
       "        text-align: right;\n",
       "    }\n",
       "</style>\n",
       "<table border=\"1\" class=\"dataframe\">\n",
       "  <thead>\n",
       "    <tr style=\"text-align: right;\">\n",
       "      <th></th>\n",
       "      <th>movie_title</th>\n",
       "      <th>production_budget</th>\n",
       "      <th>return_on_investment</th>\n",
       "      <th>release_month</th>\n",
       "    </tr>\n",
       "  </thead>\n",
       "  <tbody>\n",
       "    <tr>\n",
       "      <th>0</th>\n",
       "      <td>Avatar</td>\n",
       "      <td>425.0</td>\n",
       "      <td>8.32</td>\n",
       "      <td>12</td>\n",
       "    </tr>\n",
       "    <tr>\n",
       "      <th>1</th>\n",
       "      <td>Pirates of the Caribbean: On Stranger Tides</td>\n",
       "      <td>410.6</td>\n",
       "      <td>3.13</td>\n",
       "      <td>5</td>\n",
       "    </tr>\n",
       "    <tr>\n",
       "      <th>2</th>\n",
       "      <td>Dark Phoenix</td>\n",
       "      <td>350.0</td>\n",
       "      <td>0.55</td>\n",
       "      <td>6</td>\n",
       "    </tr>\n",
       "    <tr>\n",
       "      <th>3</th>\n",
       "      <td>Avengers: Age of Ultron</td>\n",
       "      <td>330.6</td>\n",
       "      <td>5.63</td>\n",
       "      <td>5</td>\n",
       "    </tr>\n",
       "    <tr>\n",
       "      <th>4</th>\n",
       "      <td>Star Wars Ep. VIII: The Last Jedi</td>\n",
       "      <td>317.0</td>\n",
       "      <td>6.11</td>\n",
       "      <td>12</td>\n",
       "    </tr>\n",
       "  </tbody>\n",
       "</table>\n",
       "</div>"
      ],
      "text/plain": [
       "                                   movie_title  production_budget  \\\n",
       "0                                       Avatar              425.0   \n",
       "1  Pirates of the Caribbean: On Stranger Tides              410.6   \n",
       "2                                 Dark Phoenix              350.0   \n",
       "3                      Avengers: Age of Ultron              330.6   \n",
       "4            Star Wars Ep. VIII: The Last Jedi              317.0   \n",
       "\n",
       "   return_on_investment  release_month  \n",
       "0                  8.32             12  \n",
       "1                  3.13              5  \n",
       "2                  0.55              6  \n",
       "3                  5.63              5  \n",
       "4                  6.11             12  "
      ]
     },
     "execution_count": 201,
     "metadata": {},
     "output_type": "execute_result"
    }
   ],
   "source": [
    "movie_budgets_clean = movie_budgets.loc[:, ['movie_title', 'production_budget', 'return_on_investment', 'release_month']]\n",
    "movie_budgets_clean.head()"
   ]
  },
  {
   "cell_type": "code",
   "execution_count": 202,
   "id": "adace041",
   "metadata": {},
   "outputs": [
    {
     "name": "stdout",
     "output_type": "stream",
     "text": [
      "<class 'pandas.core.frame.DataFrame'>\n",
      "Int64Index: 5361 entries, 0 to 5781\n",
      "Data columns (total 4 columns):\n",
      " #   Column                Non-Null Count  Dtype  \n",
      "---  ------                --------------  -----  \n",
      " 0   movie_title           5361 non-null   object \n",
      " 1   production_budget     5361 non-null   float64\n",
      " 2   return_on_investment  5361 non-null   float64\n",
      " 3   release_month         5361 non-null   int64  \n",
      "dtypes: float64(2), int64(1), object(1)\n",
      "memory usage: 209.4+ KB\n"
     ]
    }
   ],
   "source": [
    "movie_budgets_clean.info()"
   ]
  },
  {
   "cell_type": "markdown",
   "id": "dcdff487",
   "metadata": {},
   "source": [
    "## <span style='color:blue'>The imdb Dataset</span>"
   ]
  },
  {
   "cell_type": "code",
   "execution_count": 203,
   "id": "d5adb358",
   "metadata": {},
   "outputs": [
    {
     "name": "stdout",
     "output_type": "stream",
     "text": [
      "<class 'pandas.core.frame.DataFrame'>\n",
      "RangeIndex: 146144 entries, 0 to 146143\n",
      "Data columns (total 6 columns):\n",
      " #   Column           Non-Null Count   Dtype  \n",
      "---  ------           --------------   -----  \n",
      " 0   movie_id         146144 non-null  object \n",
      " 1   primary_title    146144 non-null  object \n",
      " 2   original_title   146123 non-null  object \n",
      " 3   start_year       146144 non-null  int64  \n",
      " 4   runtime_minutes  114405 non-null  float64\n",
      " 5   genres           140736 non-null  object \n",
      "dtypes: float64(1), int64(1), object(4)\n",
      "memory usage: 6.7+ MB\n"
     ]
    }
   ],
   "source": [
    "movie_basics.info()"
   ]
  },
  {
   "cell_type": "markdown",
   "id": "4b5a4368",
   "metadata": {},
   "source": [
    "*-Change column name and Drop the Null*"
   ]
  },
  {
   "cell_type": "code",
   "execution_count": 204,
   "id": "bd230727",
   "metadata": {},
   "outputs": [
    {
     "data": {
      "text/html": [
       "<div>\n",
       "<style scoped>\n",
       "    .dataframe tbody tr th:only-of-type {\n",
       "        vertical-align: middle;\n",
       "    }\n",
       "\n",
       "    .dataframe tbody tr th {\n",
       "        vertical-align: top;\n",
       "    }\n",
       "\n",
       "    .dataframe thead th {\n",
       "        text-align: right;\n",
       "    }\n",
       "</style>\n",
       "<table border=\"1\" class=\"dataframe\">\n",
       "  <thead>\n",
       "    <tr style=\"text-align: right;\">\n",
       "      <th></th>\n",
       "      <th>movie_id</th>\n",
       "      <th>movie_title</th>\n",
       "      <th>original_title</th>\n",
       "      <th>start_year</th>\n",
       "      <th>runtime_minutes</th>\n",
       "      <th>genres</th>\n",
       "    </tr>\n",
       "  </thead>\n",
       "  <tbody>\n",
       "    <tr>\n",
       "      <th>0</th>\n",
       "      <td>tt0063540</td>\n",
       "      <td>Sunghursh</td>\n",
       "      <td>Sunghursh</td>\n",
       "      <td>2013</td>\n",
       "      <td>175.0</td>\n",
       "      <td>Action,Crime,Drama</td>\n",
       "    </tr>\n",
       "    <tr>\n",
       "      <th>1</th>\n",
       "      <td>tt0066787</td>\n",
       "      <td>One Day Before the Rainy Season</td>\n",
       "      <td>Ashad Ka Ek Din</td>\n",
       "      <td>2019</td>\n",
       "      <td>114.0</td>\n",
       "      <td>Biography,Drama</td>\n",
       "    </tr>\n",
       "    <tr>\n",
       "      <th>2</th>\n",
       "      <td>tt0069049</td>\n",
       "      <td>The Other Side of the Wind</td>\n",
       "      <td>The Other Side of the Wind</td>\n",
       "      <td>2018</td>\n",
       "      <td>122.0</td>\n",
       "      <td>Drama</td>\n",
       "    </tr>\n",
       "    <tr>\n",
       "      <th>3</th>\n",
       "      <td>tt0069204</td>\n",
       "      <td>Sabse Bada Sukh</td>\n",
       "      <td>Sabse Bada Sukh</td>\n",
       "      <td>2018</td>\n",
       "      <td>NaN</td>\n",
       "      <td>Comedy,Drama</td>\n",
       "    </tr>\n",
       "    <tr>\n",
       "      <th>4</th>\n",
       "      <td>tt0100275</td>\n",
       "      <td>The Wandering Soap Opera</td>\n",
       "      <td>La Telenovela Errante</td>\n",
       "      <td>2017</td>\n",
       "      <td>80.0</td>\n",
       "      <td>Comedy,Drama,Fantasy</td>\n",
       "    </tr>\n",
       "    <tr>\n",
       "      <th>...</th>\n",
       "      <td>...</td>\n",
       "      <td>...</td>\n",
       "      <td>...</td>\n",
       "      <td>...</td>\n",
       "      <td>...</td>\n",
       "      <td>...</td>\n",
       "    </tr>\n",
       "    <tr>\n",
       "      <th>146139</th>\n",
       "      <td>tt9916538</td>\n",
       "      <td>Kuambil Lagi Hatiku</td>\n",
       "      <td>Kuambil Lagi Hatiku</td>\n",
       "      <td>2019</td>\n",
       "      <td>123.0</td>\n",
       "      <td>Drama</td>\n",
       "    </tr>\n",
       "    <tr>\n",
       "      <th>146140</th>\n",
       "      <td>tt9916622</td>\n",
       "      <td>Rodolpho Teóphilo - O Legado de um Pioneiro</td>\n",
       "      <td>Rodolpho Teóphilo - O Legado de um Pioneiro</td>\n",
       "      <td>2015</td>\n",
       "      <td>NaN</td>\n",
       "      <td>Documentary</td>\n",
       "    </tr>\n",
       "    <tr>\n",
       "      <th>146141</th>\n",
       "      <td>tt9916706</td>\n",
       "      <td>Dankyavar Danka</td>\n",
       "      <td>Dankyavar Danka</td>\n",
       "      <td>2013</td>\n",
       "      <td>NaN</td>\n",
       "      <td>Comedy</td>\n",
       "    </tr>\n",
       "    <tr>\n",
       "      <th>146142</th>\n",
       "      <td>tt9916730</td>\n",
       "      <td>6 Gunn</td>\n",
       "      <td>6 Gunn</td>\n",
       "      <td>2017</td>\n",
       "      <td>116.0</td>\n",
       "      <td>None</td>\n",
       "    </tr>\n",
       "    <tr>\n",
       "      <th>146143</th>\n",
       "      <td>tt9916754</td>\n",
       "      <td>Chico Albuquerque - Revelações</td>\n",
       "      <td>Chico Albuquerque - Revelações</td>\n",
       "      <td>2013</td>\n",
       "      <td>NaN</td>\n",
       "      <td>Documentary</td>\n",
       "    </tr>\n",
       "  </tbody>\n",
       "</table>\n",
       "<p>146144 rows × 6 columns</p>\n",
       "</div>"
      ],
      "text/plain": [
       "         movie_id                                  movie_title  \\\n",
       "0       tt0063540                                    Sunghursh   \n",
       "1       tt0066787              One Day Before the Rainy Season   \n",
       "2       tt0069049                   The Other Side of the Wind   \n",
       "3       tt0069204                              Sabse Bada Sukh   \n",
       "4       tt0100275                     The Wandering Soap Opera   \n",
       "...           ...                                          ...   \n",
       "146139  tt9916538                          Kuambil Lagi Hatiku   \n",
       "146140  tt9916622  Rodolpho Teóphilo - O Legado de um Pioneiro   \n",
       "146141  tt9916706                              Dankyavar Danka   \n",
       "146142  tt9916730                                       6 Gunn   \n",
       "146143  tt9916754               Chico Albuquerque - Revelações   \n",
       "\n",
       "                                     original_title  start_year  \\\n",
       "0                                         Sunghursh        2013   \n",
       "1                                   Ashad Ka Ek Din        2019   \n",
       "2                        The Other Side of the Wind        2018   \n",
       "3                                   Sabse Bada Sukh        2018   \n",
       "4                             La Telenovela Errante        2017   \n",
       "...                                             ...         ...   \n",
       "146139                          Kuambil Lagi Hatiku        2019   \n",
       "146140  Rodolpho Teóphilo - O Legado de um Pioneiro        2015   \n",
       "146141                              Dankyavar Danka        2013   \n",
       "146142                                       6 Gunn        2017   \n",
       "146143               Chico Albuquerque - Revelações        2013   \n",
       "\n",
       "        runtime_minutes                genres  \n",
       "0                 175.0    Action,Crime,Drama  \n",
       "1                 114.0       Biography,Drama  \n",
       "2                 122.0                 Drama  \n",
       "3                   NaN          Comedy,Drama  \n",
       "4                  80.0  Comedy,Drama,Fantasy  \n",
       "...                 ...                   ...  \n",
       "146139            123.0                 Drama  \n",
       "146140              NaN           Documentary  \n",
       "146141              NaN                Comedy  \n",
       "146142            116.0                  None  \n",
       "146143              NaN           Documentary  \n",
       "\n",
       "[146144 rows x 6 columns]"
      ]
     },
     "execution_count": 204,
     "metadata": {},
     "output_type": "execute_result"
    }
   ],
   "source": [
    "# For the merge of two dataframe, unifying the column name\n",
    "\n",
    "movie_basics = movie_basics.rename(columns={'primary_title':'movie_title'})\n",
    "movie_basics"
   ]
  },
  {
   "cell_type": "code",
   "execution_count": 205,
   "id": "b2829efe",
   "metadata": {},
   "outputs": [
    {
     "data": {
      "text/plain": [
       "5408"
      ]
     },
     "execution_count": 205,
     "metadata": {},
     "output_type": "execute_result"
    }
   ],
   "source": [
    "# Check the Null\n",
    "\n",
    "movie_basics['genres'].isnull().sum()"
   ]
  },
  {
   "cell_type": "code",
   "execution_count": 206,
   "id": "fcf62a1e",
   "metadata": {},
   "outputs": [
    {
     "data": {
      "text/plain": [
       "Int64Index([    16,     22,     35,     40,     44,     45,    398,    560,\n",
       "               615,    619,\n",
       "            ...\n",
       "            146082, 146083, 146085, 146086, 146087, 146088, 146089, 146107,\n",
       "            146129, 146142],\n",
       "           dtype='int64', length=5408)"
      ]
     },
     "execution_count": 206,
     "metadata": {},
     "output_type": "execute_result"
    }
   ],
   "source": [
    "movie_basics_null_genre = movie_basics[movie_basics['genres'].isnull()]\n",
    "movie_basics_null_genre.index"
   ]
  },
  {
   "cell_type": "code",
   "execution_count": 207,
   "id": "85cb6330",
   "metadata": {},
   "outputs": [],
   "source": [
    "# Drop the Null\n",
    "\n",
    "movie_basics = movie_basics.drop(movie_basics_null_genre.index)"
   ]
  },
  {
   "cell_type": "markdown",
   "id": "e6376621",
   "metadata": {},
   "source": [
    "*-Filtering the necessary columns*"
   ]
  },
  {
   "cell_type": "code",
   "execution_count": 208,
   "id": "c03b96f2",
   "metadata": {},
   "outputs": [
    {
     "data": {
      "text/html": [
       "<div>\n",
       "<style scoped>\n",
       "    .dataframe tbody tr th:only-of-type {\n",
       "        vertical-align: middle;\n",
       "    }\n",
       "\n",
       "    .dataframe tbody tr th {\n",
       "        vertical-align: top;\n",
       "    }\n",
       "\n",
       "    .dataframe thead th {\n",
       "        text-align: right;\n",
       "    }\n",
       "</style>\n",
       "<table border=\"1\" class=\"dataframe\">\n",
       "  <thead>\n",
       "    <tr style=\"text-align: right;\">\n",
       "      <th></th>\n",
       "      <th>movie_title</th>\n",
       "      <th>genres</th>\n",
       "    </tr>\n",
       "  </thead>\n",
       "  <tbody>\n",
       "    <tr>\n",
       "      <th>0</th>\n",
       "      <td>Sunghursh</td>\n",
       "      <td>Action,Crime,Drama</td>\n",
       "    </tr>\n",
       "    <tr>\n",
       "      <th>1</th>\n",
       "      <td>One Day Before the Rainy Season</td>\n",
       "      <td>Biography,Drama</td>\n",
       "    </tr>\n",
       "    <tr>\n",
       "      <th>2</th>\n",
       "      <td>The Other Side of the Wind</td>\n",
       "      <td>Drama</td>\n",
       "    </tr>\n",
       "    <tr>\n",
       "      <th>3</th>\n",
       "      <td>Sabse Bada Sukh</td>\n",
       "      <td>Comedy,Drama</td>\n",
       "    </tr>\n",
       "    <tr>\n",
       "      <th>4</th>\n",
       "      <td>The Wandering Soap Opera</td>\n",
       "      <td>Comedy,Drama,Fantasy</td>\n",
       "    </tr>\n",
       "  </tbody>\n",
       "</table>\n",
       "</div>"
      ],
      "text/plain": [
       "                       movie_title                genres\n",
       "0                        Sunghursh    Action,Crime,Drama\n",
       "1  One Day Before the Rainy Season       Biography,Drama\n",
       "2       The Other Side of the Wind                 Drama\n",
       "3                  Sabse Bada Sukh          Comedy,Drama\n",
       "4         The Wandering Soap Opera  Comedy,Drama,Fantasy"
      ]
     },
     "execution_count": 208,
     "metadata": {},
     "output_type": "execute_result"
    }
   ],
   "source": [
    "movie_basics_clean = movie_basics.loc[:, ['movie_title', 'genres']]\n",
    "movie_basics_clean.head()"
   ]
  },
  {
   "cell_type": "code",
   "execution_count": 209,
   "id": "25d0b708",
   "metadata": {},
   "outputs": [
    {
     "name": "stdout",
     "output_type": "stream",
     "text": [
      "<class 'pandas.core.frame.DataFrame'>\n",
      "Int64Index: 140736 entries, 0 to 146143\n",
      "Data columns (total 2 columns):\n",
      " #   Column       Non-Null Count   Dtype \n",
      "---  ------       --------------   ----- \n",
      " 0   movie_title  140736 non-null  object\n",
      " 1   genres       140736 non-null  object\n",
      "dtypes: object(2)\n",
      "memory usage: 3.2+ MB\n"
     ]
    }
   ],
   "source": [
    "movie_basics_clean.info()"
   ]
  },
  {
   "cell_type": "markdown",
   "id": "1185ee6a",
   "metadata": {},
   "source": [
    "## <span style='color:blue'>Merging Dataset</span>"
   ]
  },
  {
   "cell_type": "code",
   "execution_count": 210,
   "id": "4afc72af",
   "metadata": {},
   "outputs": [
    {
     "name": "stdout",
     "output_type": "stream",
     "text": [
      "<class 'pandas.core.frame.DataFrame'>\n",
      "Int64Index: 3334 entries, 0 to 3333\n",
      "Data columns (total 5 columns):\n",
      " #   Column                Non-Null Count  Dtype  \n",
      "---  ------                --------------  -----  \n",
      " 0   movie_title           3334 non-null   object \n",
      " 1   production_budget     3334 non-null   float64\n",
      " 2   return_on_investment  3334 non-null   float64\n",
      " 3   release_month         3334 non-null   int64  \n",
      " 4   genres                3334 non-null   object \n",
      "dtypes: float64(2), int64(1), object(2)\n",
      "memory usage: 156.3+ KB\n"
     ]
    }
   ],
   "source": [
    "movie_data = pd.merge(movie_budgets_clean, movie_basics_clean, how='inner', on='movie_title')\n",
    "movie_data.info()"
   ]
  },
  {
   "cell_type": "markdown",
   "id": "e5f3b83d",
   "metadata": {},
   "source": [
    "*-Drop Duplicates*"
   ]
  },
  {
   "cell_type": "code",
   "execution_count": 211,
   "id": "6a03dd14",
   "metadata": {},
   "outputs": [
    {
     "data": {
      "text/plain": [
       "1278"
      ]
     },
     "execution_count": 211,
     "metadata": {},
     "output_type": "execute_result"
    }
   ],
   "source": [
    "movie_data.duplicated('movie_title').sum()"
   ]
  },
  {
   "cell_type": "code",
   "execution_count": 212,
   "id": "32e898c3",
   "metadata": {},
   "outputs": [
    {
     "name": "stdout",
     "output_type": "stream",
     "text": [
      "<class 'pandas.core.frame.DataFrame'>\n",
      "Int64Index: 2056 entries, 0 to 3333\n",
      "Data columns (total 5 columns):\n",
      " #   Column                Non-Null Count  Dtype  \n",
      "---  ------                --------------  -----  \n",
      " 0   movie_title           2056 non-null   object \n",
      " 1   production_budget     2056 non-null   float64\n",
      " 2   return_on_investment  2056 non-null   float64\n",
      " 3   release_month         2056 non-null   int64  \n",
      " 4   genres                2056 non-null   object \n",
      "dtypes: float64(2), int64(1), object(2)\n",
      "memory usage: 96.4+ KB\n"
     ]
    }
   ],
   "source": [
    "movie_data = movie_data.drop_duplicates(subset=['movie_title'], keep = 'last')\n",
    "movie_data.info()"
   ]
  },
  {
   "cell_type": "code",
   "execution_count": 213,
   "id": "0dd336ff",
   "metadata": {},
   "outputs": [
    {
     "data": {
      "text/html": [
       "<div>\n",
       "<style scoped>\n",
       "    .dataframe tbody tr th:only-of-type {\n",
       "        vertical-align: middle;\n",
       "    }\n",
       "\n",
       "    .dataframe tbody tr th {\n",
       "        vertical-align: top;\n",
       "    }\n",
       "\n",
       "    .dataframe thead th {\n",
       "        text-align: right;\n",
       "    }\n",
       "</style>\n",
       "<table border=\"1\" class=\"dataframe\">\n",
       "  <thead>\n",
       "    <tr style=\"text-align: right;\">\n",
       "      <th></th>\n",
       "      <th>movie_title</th>\n",
       "      <th>production_budget</th>\n",
       "      <th>return_on_investment</th>\n",
       "      <th>release_month</th>\n",
       "      <th>genres</th>\n",
       "    </tr>\n",
       "  </thead>\n",
       "  <tbody>\n",
       "    <tr>\n",
       "      <th>0</th>\n",
       "      <td>Avatar</td>\n",
       "      <td>425.0</td>\n",
       "      <td>8.32</td>\n",
       "      <td>12</td>\n",
       "      <td>Horror</td>\n",
       "    </tr>\n",
       "    <tr>\n",
       "      <th>1</th>\n",
       "      <td>Pirates of the Caribbean: On Stranger Tides</td>\n",
       "      <td>410.6</td>\n",
       "      <td>3.13</td>\n",
       "      <td>5</td>\n",
       "      <td>Action,Adventure,Fantasy</td>\n",
       "    </tr>\n",
       "    <tr>\n",
       "      <th>2</th>\n",
       "      <td>Dark Phoenix</td>\n",
       "      <td>350.0</td>\n",
       "      <td>0.55</td>\n",
       "      <td>6</td>\n",
       "      <td>Action,Adventure,Sci-Fi</td>\n",
       "    </tr>\n",
       "    <tr>\n",
       "      <th>3</th>\n",
       "      <td>Avengers: Age of Ultron</td>\n",
       "      <td>330.6</td>\n",
       "      <td>5.63</td>\n",
       "      <td>5</td>\n",
       "      <td>Action,Adventure,Sci-Fi</td>\n",
       "    </tr>\n",
       "    <tr>\n",
       "      <th>4</th>\n",
       "      <td>Avengers: Infinity War</td>\n",
       "      <td>300.0</td>\n",
       "      <td>9.09</td>\n",
       "      <td>4</td>\n",
       "      <td>Action,Adventure,Sci-Fi</td>\n",
       "    </tr>\n",
       "  </tbody>\n",
       "</table>\n",
       "</div>"
      ],
      "text/plain": [
       "                                   movie_title  production_budget  \\\n",
       "0                                       Avatar              425.0   \n",
       "1  Pirates of the Caribbean: On Stranger Tides              410.6   \n",
       "2                                 Dark Phoenix              350.0   \n",
       "3                      Avengers: Age of Ultron              330.6   \n",
       "4                       Avengers: Infinity War              300.0   \n",
       "\n",
       "   return_on_investment  release_month                    genres  \n",
       "0                  8.32             12                    Horror  \n",
       "1                  3.13              5  Action,Adventure,Fantasy  \n",
       "2                  0.55              6   Action,Adventure,Sci-Fi  \n",
       "3                  5.63              5   Action,Adventure,Sci-Fi  \n",
       "4                  9.09              4   Action,Adventure,Sci-Fi  "
      ]
     },
     "execution_count": 213,
     "metadata": {},
     "output_type": "execute_result"
    }
   ],
   "source": [
    "movie_data.head()"
   ]
  },
  {
   "cell_type": "markdown",
   "id": "32a5b0ec",
   "metadata": {},
   "source": [
    "**DROP OUTLIER**    *-Check the \"Return_on_investment\" outlier and drop the outlier*"
   ]
  },
  {
   "cell_type": "code",
   "execution_count": 214,
   "id": "ed333bcb",
   "metadata": {},
   "outputs": [
    {
     "data": {
      "text/plain": [
       "count    2056.000000\n",
       "mean        6.913633\n",
       "std        25.068477\n",
       "min         0.010000\n",
       "25%         1.160000\n",
       "50%         2.990000\n",
       "75%         6.060000\n",
       "max       644.210000\n",
       "Name: return_on_investment, dtype: float64"
      ]
     },
     "execution_count": 214,
     "metadata": {},
     "output_type": "execute_result"
    }
   ],
   "source": [
    "movie_data['return_on_investment'].describe()"
   ]
  },
  {
   "cell_type": "code",
   "execution_count": 215,
   "id": "97420eb6",
   "metadata": {},
   "outputs": [
    {
     "data": {
      "text/plain": [
       "<AxesSubplot:>"
      ]
     },
     "execution_count": 215,
     "metadata": {},
     "output_type": "execute_result"
    },
    {
     "data": {
      "image/png": "[encoded data removed]",
      "text/plain": [
       "<Figure size 432x288 with 1 Axes>"
      ]
     },
     "metadata": {
      "needs_background": "light"
     },
     "output_type": "display_data"
    }
   ],
   "source": [
    "movie_data['return_on_investment'].plot.box()"
   ]
  },
  {
   "cell_type": "code",
   "execution_count": 216,
   "id": "d9e37429",
   "metadata": {},
   "outputs": [
    {
     "data": {
      "text/plain": [
       "4.8999999999999995"
      ]
     },
     "execution_count": 216,
     "metadata": {},
     "output_type": "execute_result"
    }
   ],
   "source": [
    "q1 = movie_data['return_on_investment'].quantile(0.25)\n",
    "q2 = movie_data['return_on_investment'].quantile(0.50)\n",
    "q3 = movie_data['return_on_investment'].quantile(0.75)\n",
    "iqr = q3 - q1\n",
    "iqr"
   ]
  },
  {
   "cell_type": "code",
   "execution_count": 217,
   "id": "9ad4f205",
   "metadata": {},
   "outputs": [
    {
     "data": {
      "text/plain": [
       "(Int64Index([3332, 3331, 3330, 3328, 3321, 3313, 3312, 3311, 3300, 3286,\n",
       "             ...\n",
       "              462,  400,  379,  267,  246,  177,  132,   78,   41,   38],\n",
       "            dtype='int64', length=180),\n",
       " array([179, 178, 177, 176, 175, 174, 173, 172, 171, 170, 169, 168, 167,\n",
       "        166, 165, 164, 163, 162, 161, 160, 159, 158, 157, 156, 155, 154,\n",
       "        153, 152, 151, 150, 149, 148, 147, 146, 145, 144, 143, 142, 141,\n",
       "        140, 139, 138, 137, 136, 135, 134, 133, 132, 131, 130, 129, 128,\n",
       "        127, 126, 125, 124, 123, 122, 121, 120, 119, 118, 117, 116, 115,\n",
       "        114, 113, 112, 111, 110, 109, 108, 107, 106, 105, 104, 103, 102,\n",
       "        101, 100,  99,  98,  97,  96,  95,  94,  93,  92,  91,  90,  89,\n",
       "         88,  87,  86,  85,  84,  83,  82,  81,  80,  79,  78,  77,  76,\n",
       "         75,  74,  73,  72,  71,  70,  69,  68,  67,  66,  65,  64,  63,\n",
       "         62,  61,  60,  59,  58,  57,  56,  55,  54,  53,  52,  51,  50,\n",
       "         49,  48,  47,  46,  45,  44,  43,  42,  41,  40,  39,  38,  37,\n",
       "         36,  35,  34,  33,  32,  31,  30,  29,  28,  27,  26,  25,  24,\n",
       "         23,  22,  21,  20,  19,  18,  17,  16,  15,  14,  13,  12,  11,\n",
       "         10,   9,   8,   7,   6,   5,   4,   3,   2,   1,   0]))"
      ]
     },
     "execution_count": 217,
     "metadata": {},
     "output_type": "execute_result"
    }
   ],
   "source": [
    "condition=movie_data['return_on_investment'] > ( q3 + 1.5*iqr )\n",
    "roi_outlier = movie_data[condition].index\n",
    "roi_outlier.sort_values(['return_on_investment'], ascending=False)"
   ]
  },
  {
   "cell_type": "code",
   "execution_count": 218,
   "id": "bd5bc586",
   "metadata": {},
   "outputs": [
    {
     "name": "stdout",
     "output_type": "stream",
     "text": [
      "<class 'pandas.core.frame.DataFrame'>\n",
      "Int64Index: 1876 entries, 0 to 3333\n",
      "Data columns (total 5 columns):\n",
      " #   Column                Non-Null Count  Dtype  \n",
      "---  ------                --------------  -----  \n",
      " 0   movie_title           1876 non-null   object \n",
      " 1   production_budget     1876 non-null   float64\n",
      " 2   return_on_investment  1876 non-null   float64\n",
      " 3   release_month         1876 non-null   int64  \n",
      " 4   genres                1876 non-null   object \n",
      "dtypes: float64(2), int64(1), object(2)\n",
      "memory usage: 87.9+ KB\n"
     ]
    }
   ],
   "source": [
    "movie_clean_data = movie_data.drop(roi_outlier)\n",
    "movie_clean_data.info()"
   ]
  },
  {
   "cell_type": "code",
   "execution_count": 219,
   "id": "9230c6fb",
   "metadata": {},
   "outputs": [
    {
     "data": {
      "text/plain": [
       "2096    13.38\n",
       "1753    13.32\n",
       "2136    13.30\n",
       "1181    13.26\n",
       "1650    13.23\n",
       "        ...  \n",
       "1542     0.01\n",
       "3027     0.01\n",
       "2030     0.01\n",
       "2035     0.01\n",
       "2751     0.01\n",
       "Name: return_on_investment, Length: 1876, dtype: float64"
      ]
     },
     "execution_count": 219,
     "metadata": {},
     "output_type": "execute_result"
    }
   ],
   "source": [
    "movie_clean_data['return_on_investment'].sort_values(ascending=False)"
   ]
  },
  {
   "cell_type": "code",
   "execution_count": 220,
   "id": "5d014a58",
   "metadata": {},
   "outputs": [
    {
     "data": {
      "text/plain": [
       "count    1876.000000\n",
       "mean        3.436439\n",
       "std         3.071231\n",
       "min         0.010000\n",
       "25%         1.000000\n",
       "50%         2.640000\n",
       "75%         5.012500\n",
       "max        13.380000\n",
       "Name: return_on_investment, dtype: float64"
      ]
     },
     "execution_count": 220,
     "metadata": {},
     "output_type": "execute_result"
    }
   ],
   "source": [
    "movie_clean_data['return_on_investment'].describe()"
   ]
  },
  {
   "cell_type": "code",
   "execution_count": 221,
   "id": "7d18b210",
   "metadata": {},
   "outputs": [
    {
     "data": {
      "text/plain": [
       "<AxesSubplot:>"
      ]
     },
     "execution_count": 221,
     "metadata": {},
     "output_type": "execute_result"
    },
    {
     "data": {
      "image/png": "[encoded data removed]",
      "text/plain": [
       "<Figure size 432x288 with 1 Axes>"
      ]
     },
     "metadata": {
      "needs_background": "light"
     },
     "output_type": "display_data"
    }
   ],
   "source": [
    "movie_clean_data['return_on_investment'].plot.box()"
   ]
  },
  {
   "cell_type": "code",
   "execution_count": 222,
   "id": "22d48096",
   "metadata": {},
   "outputs": [
    {
     "data": {
      "text/html": [
       "<div>\n",
       "<style scoped>\n",
       "    .dataframe tbody tr th:only-of-type {\n",
       "        vertical-align: middle;\n",
       "    }\n",
       "\n",
       "    .dataframe tbody tr th {\n",
       "        vertical-align: top;\n",
       "    }\n",
       "\n",
       "    .dataframe thead th {\n",
       "        text-align: right;\n",
       "    }\n",
       "</style>\n",
       "<table border=\"1\" class=\"dataframe\">\n",
       "  <thead>\n",
       "    <tr style=\"text-align: right;\">\n",
       "      <th></th>\n",
       "      <th>movie_title</th>\n",
       "      <th>production_budget</th>\n",
       "      <th>return_on_investment</th>\n",
       "      <th>release_month</th>\n",
       "      <th>genres</th>\n",
       "    </tr>\n",
       "  </thead>\n",
       "  <tbody>\n",
       "    <tr>\n",
       "      <th>0</th>\n",
       "      <td>Avatar</td>\n",
       "      <td>425.0</td>\n",
       "      <td>8.32</td>\n",
       "      <td>12</td>\n",
       "      <td>Horror</td>\n",
       "    </tr>\n",
       "    <tr>\n",
       "      <th>1</th>\n",
       "      <td>Pirates of the Caribbean: On Stranger Tides</td>\n",
       "      <td>410.6</td>\n",
       "      <td>3.13</td>\n",
       "      <td>5</td>\n",
       "      <td>Action,Adventure,Fantasy</td>\n",
       "    </tr>\n",
       "    <tr>\n",
       "      <th>2</th>\n",
       "      <td>Dark Phoenix</td>\n",
       "      <td>350.0</td>\n",
       "      <td>0.55</td>\n",
       "      <td>6</td>\n",
       "      <td>Action,Adventure,Sci-Fi</td>\n",
       "    </tr>\n",
       "    <tr>\n",
       "      <th>3</th>\n",
       "      <td>Avengers: Age of Ultron</td>\n",
       "      <td>330.6</td>\n",
       "      <td>5.63</td>\n",
       "      <td>5</td>\n",
       "      <td>Action,Adventure,Sci-Fi</td>\n",
       "    </tr>\n",
       "    <tr>\n",
       "      <th>4</th>\n",
       "      <td>Avengers: Infinity War</td>\n",
       "      <td>300.0</td>\n",
       "      <td>9.09</td>\n",
       "      <td>4</td>\n",
       "      <td>Action,Adventure,Sci-Fi</td>\n",
       "    </tr>\n",
       "  </tbody>\n",
       "</table>\n",
       "</div>"
      ],
      "text/plain": [
       "                                   movie_title  production_budget  \\\n",
       "0                                       Avatar              425.0   \n",
       "1  Pirates of the Caribbean: On Stranger Tides              410.6   \n",
       "2                                 Dark Phoenix              350.0   \n",
       "3                      Avengers: Age of Ultron              330.6   \n",
       "4                       Avengers: Infinity War              300.0   \n",
       "\n",
       "   return_on_investment  release_month                    genres  \n",
       "0                  8.32             12                    Horror  \n",
       "1                  3.13              5  Action,Adventure,Fantasy  \n",
       "2                  0.55              6   Action,Adventure,Sci-Fi  \n",
       "3                  5.63              5   Action,Adventure,Sci-Fi  \n",
       "4                  9.09              4   Action,Adventure,Sci-Fi  "
      ]
     },
     "execution_count": 222,
     "metadata": {},
     "output_type": "execute_result"
    }
   ],
   "source": [
    "movie_clean_data.head()"
   ]
  },
  {
   "cell_type": "markdown",
   "id": "317493ef",
   "metadata": {},
   "source": [
    "# Analysis"
   ]
  },
  {
   "cell_type": "markdown",
   "id": "9977a814",
   "metadata": {},
   "source": [
    "## <span style='color:blue'>1. What Genre of Movie to Make (ROI BY GENRE) </span>\n",
    "\n",
    "Creating a movie is a new business domain for Microsoft, so ***\"what genre of movie to make\"*** is the most significant issue. First of all, they should decide on the movie genre that they are going to make. So, I will take a look at the number of released movie and ROI by genre."
   ]
  },
  {
   "cell_type": "markdown",
   "id": "83832d9c",
   "metadata": {},
   "source": [
    "### <span style='color:brown'>*  Analyzing with single GENRE</span>"
   ]
  },
  {
   "cell_type": "markdown",
   "id": "3cff44ea",
   "metadata": {},
   "source": [
    "* Explode the 'Genres' column"
   ]
  },
  {
   "cell_type": "code",
   "execution_count": 223,
   "id": "e524bfb0",
   "metadata": {},
   "outputs": [
    {
     "data": {
      "text/html": [
       "<div>\n",
       "<style scoped>\n",
       "    .dataframe tbody tr th:only-of-type {\n",
       "        vertical-align: middle;\n",
       "    }\n",
       "\n",
       "    .dataframe tbody tr th {\n",
       "        vertical-align: top;\n",
       "    }\n",
       "\n",
       "    .dataframe thead th {\n",
       "        text-align: right;\n",
       "    }\n",
       "</style>\n",
       "<table border=\"1\" class=\"dataframe\">\n",
       "  <thead>\n",
       "    <tr style=\"text-align: right;\">\n",
       "      <th></th>\n",
       "      <th>movie_title</th>\n",
       "      <th>production_budget</th>\n",
       "      <th>return_on_investment</th>\n",
       "      <th>release_month</th>\n",
       "      <th>genres</th>\n",
       "      <th>genre_list</th>\n",
       "    </tr>\n",
       "  </thead>\n",
       "  <tbody>\n",
       "    <tr>\n",
       "      <th>0</th>\n",
       "      <td>Avatar</td>\n",
       "      <td>425.00</td>\n",
       "      <td>8.32</td>\n",
       "      <td>12</td>\n",
       "      <td>Horror</td>\n",
       "      <td>[Horror]</td>\n",
       "    </tr>\n",
       "    <tr>\n",
       "      <th>1</th>\n",
       "      <td>Pirates of the Caribbean: On Stranger Tides</td>\n",
       "      <td>410.60</td>\n",
       "      <td>3.13</td>\n",
       "      <td>5</td>\n",
       "      <td>Action,Adventure,Fantasy</td>\n",
       "      <td>[Action, Adventure, Fantasy]</td>\n",
       "    </tr>\n",
       "    <tr>\n",
       "      <th>2</th>\n",
       "      <td>Dark Phoenix</td>\n",
       "      <td>350.00</td>\n",
       "      <td>0.55</td>\n",
       "      <td>6</td>\n",
       "      <td>Action,Adventure,Sci-Fi</td>\n",
       "      <td>[Action, Adventure, Sci-Fi]</td>\n",
       "    </tr>\n",
       "    <tr>\n",
       "      <th>3</th>\n",
       "      <td>Avengers: Age of Ultron</td>\n",
       "      <td>330.60</td>\n",
       "      <td>5.63</td>\n",
       "      <td>5</td>\n",
       "      <td>Action,Adventure,Sci-Fi</td>\n",
       "      <td>[Action, Adventure, Sci-Fi]</td>\n",
       "    </tr>\n",
       "    <tr>\n",
       "      <th>4</th>\n",
       "      <td>Avengers: Infinity War</td>\n",
       "      <td>300.00</td>\n",
       "      <td>9.09</td>\n",
       "      <td>4</td>\n",
       "      <td>Action,Adventure,Sci-Fi</td>\n",
       "      <td>[Action, Adventure, Sci-Fi]</td>\n",
       "    </tr>\n",
       "    <tr>\n",
       "      <th>...</th>\n",
       "      <td>...</td>\n",
       "      <td>...</td>\n",
       "      <td>...</td>\n",
       "      <td>...</td>\n",
       "      <td>...</td>\n",
       "      <td>...</td>\n",
       "    </tr>\n",
       "    <tr>\n",
       "      <th>3322</th>\n",
       "      <td>Counting</td>\n",
       "      <td>0.05</td>\n",
       "      <td>0.33</td>\n",
       "      <td>7</td>\n",
       "      <td>Documentary</td>\n",
       "      <td>[Documentary]</td>\n",
       "    </tr>\n",
       "    <tr>\n",
       "      <th>3323</th>\n",
       "      <td>Raymond Did It</td>\n",
       "      <td>0.04</td>\n",
       "      <td>0.18</td>\n",
       "      <td>2</td>\n",
       "      <td>Horror</td>\n",
       "      <td>[Horror]</td>\n",
       "    </tr>\n",
       "    <tr>\n",
       "      <th>3324</th>\n",
       "      <td>Krisha</td>\n",
       "      <td>0.03</td>\n",
       "      <td>9.65</td>\n",
       "      <td>3</td>\n",
       "      <td>Drama</td>\n",
       "      <td>[Drama]</td>\n",
       "    </tr>\n",
       "    <tr>\n",
       "      <th>3327</th>\n",
       "      <td>Emily</td>\n",
       "      <td>0.03</td>\n",
       "      <td>0.26</td>\n",
       "      <td>1</td>\n",
       "      <td>Documentary</td>\n",
       "      <td>[Documentary]</td>\n",
       "    </tr>\n",
       "    <tr>\n",
       "      <th>3333</th>\n",
       "      <td>Newlyweds</td>\n",
       "      <td>0.01</td>\n",
       "      <td>1.02</td>\n",
       "      <td>1</td>\n",
       "      <td>Comedy,Drama</td>\n",
       "      <td>[Comedy, Drama]</td>\n",
       "    </tr>\n",
       "  </tbody>\n",
       "</table>\n",
       "<p>1876 rows × 6 columns</p>\n",
       "</div>"
      ],
      "text/plain": [
       "                                      movie_title  production_budget  \\\n",
       "0                                          Avatar             425.00   \n",
       "1     Pirates of the Caribbean: On Stranger Tides             410.60   \n",
       "2                                    Dark Phoenix             350.00   \n",
       "3                         Avengers: Age of Ultron             330.60   \n",
       "4                          Avengers: Infinity War             300.00   \n",
       "...                                           ...                ...   \n",
       "3322                                     Counting               0.05   \n",
       "3323                               Raymond Did It               0.04   \n",
       "3324                                       Krisha               0.03   \n",
       "3327                                        Emily               0.03   \n",
       "3333                                    Newlyweds               0.01   \n",
       "\n",
       "      return_on_investment  release_month                    genres  \\\n",
       "0                     8.32             12                    Horror   \n",
       "1                     3.13              5  Action,Adventure,Fantasy   \n",
       "2                     0.55              6   Action,Adventure,Sci-Fi   \n",
       "3                     5.63              5   Action,Adventure,Sci-Fi   \n",
       "4                     9.09              4   Action,Adventure,Sci-Fi   \n",
       "...                    ...            ...                       ...   \n",
       "3322                  0.33              7               Documentary   \n",
       "3323                  0.18              2                    Horror   \n",
       "3324                  9.65              3                     Drama   \n",
       "3327                  0.26              1               Documentary   \n",
       "3333                  1.02              1              Comedy,Drama   \n",
       "\n",
       "                        genre_list  \n",
       "0                         [Horror]  \n",
       "1     [Action, Adventure, Fantasy]  \n",
       "2      [Action, Adventure, Sci-Fi]  \n",
       "3      [Action, Adventure, Sci-Fi]  \n",
       "4      [Action, Adventure, Sci-Fi]  \n",
       "...                            ...  \n",
       "3322                 [Documentary]  \n",
       "3323                      [Horror]  \n",
       "3324                       [Drama]  \n",
       "3327                 [Documentary]  \n",
       "3333               [Comedy, Drama]  \n",
       "\n",
       "[1876 rows x 6 columns]"
      ]
     },
     "execution_count": 223,
     "metadata": {},
     "output_type": "execute_result"
    }
   ],
   "source": [
    "# Separate the mixed Genres in 'GENRES\" column\n",
    "# First, split the strings in 'genres' column for explode GENRES\n",
    "\n",
    "movie_clean_data['genre_list'] = movie_clean_data['genres'].str.split(',')\n",
    "movie_clean_data"
   ]
  },
  {
   "cell_type": "code",
   "execution_count": 224,
   "id": "67ce8d2a",
   "metadata": {},
   "outputs": [
    {
     "name": "stdout",
     "output_type": "stream",
     "text": [
      "<class 'pandas.core.frame.DataFrame'>\n",
      "Int64Index: 1876 entries, 0 to 3333\n",
      "Data columns (total 6 columns):\n",
      " #   Column                Non-Null Count  Dtype  \n",
      "---  ------                --------------  -----  \n",
      " 0   movie_title           1876 non-null   object \n",
      " 1   production_budget     1876 non-null   float64\n",
      " 2   return_on_investment  1876 non-null   float64\n",
      " 3   release_month         1876 non-null   int64  \n",
      " 4   genres                1876 non-null   object \n",
      " 5   genre_list            1876 non-null   object \n",
      "dtypes: float64(2), int64(1), object(3)\n",
      "memory usage: 102.6+ KB\n"
     ]
    }
   ],
   "source": [
    "movie_clean_data.info()"
   ]
  },
  {
   "cell_type": "code",
   "execution_count": 225,
   "id": "38ba6533",
   "metadata": {},
   "outputs": [
    {
     "data": {
      "text/html": [
       "<div>\n",
       "<style scoped>\n",
       "    .dataframe tbody tr th:only-of-type {\n",
       "        vertical-align: middle;\n",
       "    }\n",
       "\n",
       "    .dataframe tbody tr th {\n",
       "        vertical-align: top;\n",
       "    }\n",
       "\n",
       "    .dataframe thead th {\n",
       "        text-align: right;\n",
       "    }\n",
       "</style>\n",
       "<table border=\"1\" class=\"dataframe\">\n",
       "  <thead>\n",
       "    <tr style=\"text-align: right;\">\n",
       "      <th></th>\n",
       "      <th>movie_title</th>\n",
       "      <th>production_budget</th>\n",
       "      <th>return_on_investment</th>\n",
       "      <th>release_month</th>\n",
       "      <th>genres</th>\n",
       "      <th>genre_list</th>\n",
       "    </tr>\n",
       "  </thead>\n",
       "  <tbody>\n",
       "    <tr>\n",
       "      <th>0</th>\n",
       "      <td>Avatar</td>\n",
       "      <td>425.00</td>\n",
       "      <td>8.32</td>\n",
       "      <td>12</td>\n",
       "      <td>Horror</td>\n",
       "      <td>Horror</td>\n",
       "    </tr>\n",
       "    <tr>\n",
       "      <th>1</th>\n",
       "      <td>Pirates of the Caribbean: On Stranger Tides</td>\n",
       "      <td>410.60</td>\n",
       "      <td>3.13</td>\n",
       "      <td>5</td>\n",
       "      <td>Action,Adventure,Fantasy</td>\n",
       "      <td>Action</td>\n",
       "    </tr>\n",
       "    <tr>\n",
       "      <th>1</th>\n",
       "      <td>Pirates of the Caribbean: On Stranger Tides</td>\n",
       "      <td>410.60</td>\n",
       "      <td>3.13</td>\n",
       "      <td>5</td>\n",
       "      <td>Action,Adventure,Fantasy</td>\n",
       "      <td>Adventure</td>\n",
       "    </tr>\n",
       "    <tr>\n",
       "      <th>1</th>\n",
       "      <td>Pirates of the Caribbean: On Stranger Tides</td>\n",
       "      <td>410.60</td>\n",
       "      <td>3.13</td>\n",
       "      <td>5</td>\n",
       "      <td>Action,Adventure,Fantasy</td>\n",
       "      <td>Fantasy</td>\n",
       "    </tr>\n",
       "    <tr>\n",
       "      <th>2</th>\n",
       "      <td>Dark Phoenix</td>\n",
       "      <td>350.00</td>\n",
       "      <td>0.55</td>\n",
       "      <td>6</td>\n",
       "      <td>Action,Adventure,Sci-Fi</td>\n",
       "      <td>Action</td>\n",
       "    </tr>\n",
       "    <tr>\n",
       "      <th>...</th>\n",
       "      <td>...</td>\n",
       "      <td>...</td>\n",
       "      <td>...</td>\n",
       "      <td>...</td>\n",
       "      <td>...</td>\n",
       "      <td>...</td>\n",
       "    </tr>\n",
       "    <tr>\n",
       "      <th>3323</th>\n",
       "      <td>Raymond Did It</td>\n",
       "      <td>0.04</td>\n",
       "      <td>0.18</td>\n",
       "      <td>2</td>\n",
       "      <td>Horror</td>\n",
       "      <td>Horror</td>\n",
       "    </tr>\n",
       "    <tr>\n",
       "      <th>3324</th>\n",
       "      <td>Krisha</td>\n",
       "      <td>0.03</td>\n",
       "      <td>9.65</td>\n",
       "      <td>3</td>\n",
       "      <td>Drama</td>\n",
       "      <td>Drama</td>\n",
       "    </tr>\n",
       "    <tr>\n",
       "      <th>3327</th>\n",
       "      <td>Emily</td>\n",
       "      <td>0.03</td>\n",
       "      <td>0.26</td>\n",
       "      <td>1</td>\n",
       "      <td>Documentary</td>\n",
       "      <td>Documentary</td>\n",
       "    </tr>\n",
       "    <tr>\n",
       "      <th>3333</th>\n",
       "      <td>Newlyweds</td>\n",
       "      <td>0.01</td>\n",
       "      <td>1.02</td>\n",
       "      <td>1</td>\n",
       "      <td>Comedy,Drama</td>\n",
       "      <td>Comedy</td>\n",
       "    </tr>\n",
       "    <tr>\n",
       "      <th>3333</th>\n",
       "      <td>Newlyweds</td>\n",
       "      <td>0.01</td>\n",
       "      <td>1.02</td>\n",
       "      <td>1</td>\n",
       "      <td>Comedy,Drama</td>\n",
       "      <td>Drama</td>\n",
       "    </tr>\n",
       "  </tbody>\n",
       "</table>\n",
       "<p>4226 rows × 6 columns</p>\n",
       "</div>"
      ],
      "text/plain": [
       "                                      movie_title  production_budget  \\\n",
       "0                                          Avatar             425.00   \n",
       "1     Pirates of the Caribbean: On Stranger Tides             410.60   \n",
       "1     Pirates of the Caribbean: On Stranger Tides             410.60   \n",
       "1     Pirates of the Caribbean: On Stranger Tides             410.60   \n",
       "2                                    Dark Phoenix             350.00   \n",
       "...                                           ...                ...   \n",
       "3323                               Raymond Did It               0.04   \n",
       "3324                                       Krisha               0.03   \n",
       "3327                                        Emily               0.03   \n",
       "3333                                    Newlyweds               0.01   \n",
       "3333                                    Newlyweds               0.01   \n",
       "\n",
       "      return_on_investment  release_month                    genres  \\\n",
       "0                     8.32             12                    Horror   \n",
       "1                     3.13              5  Action,Adventure,Fantasy   \n",
       "1                     3.13              5  Action,Adventure,Fantasy   \n",
       "1                     3.13              5  Action,Adventure,Fantasy   \n",
       "2                     0.55              6   Action,Adventure,Sci-Fi   \n",
       "...                    ...            ...                       ...   \n",
       "3323                  0.18              2                    Horror   \n",
       "3324                  9.65              3                     Drama   \n",
       "3327                  0.26              1               Documentary   \n",
       "3333                  1.02              1              Comedy,Drama   \n",
       "3333                  1.02              1              Comedy,Drama   \n",
       "\n",
       "       genre_list  \n",
       "0          Horror  \n",
       "1          Action  \n",
       "1       Adventure  \n",
       "1         Fantasy  \n",
       "2          Action  \n",
       "...           ...  \n",
       "3323       Horror  \n",
       "3324        Drama  \n",
       "3327  Documentary  \n",
       "3333       Comedy  \n",
       "3333        Drama  \n",
       "\n",
       "[4226 rows x 6 columns]"
      ]
     },
     "execution_count": 225,
     "metadata": {},
     "output_type": "execute_result"
    }
   ],
   "source": [
    "movie_genre_data = movie_clean_data.explode('genre_list')\n",
    "movie_genre_data"
   ]
  },
  {
   "cell_type": "code",
   "execution_count": 226,
   "id": "0dc07db8",
   "metadata": {},
   "outputs": [
    {
     "name": "stdout",
     "output_type": "stream",
     "text": [
      "<class 'pandas.core.frame.DataFrame'>\n",
      "Int64Index: 4226 entries, 0 to 3333\n",
      "Data columns (total 6 columns):\n",
      " #   Column                Non-Null Count  Dtype  \n",
      "---  ------                --------------  -----  \n",
      " 0   movie_title           4226 non-null   object \n",
      " 1   production_budget     4226 non-null   float64\n",
      " 2   return_on_investment  4226 non-null   float64\n",
      " 3   release_month         4226 non-null   int64  \n",
      " 4   genres                4226 non-null   object \n",
      " 5   genre_list            4226 non-null   object \n",
      "dtypes: float64(2), int64(1), object(3)\n",
      "memory usage: 231.1+ KB\n"
     ]
    }
   ],
   "source": [
    "movie_genre_data.info()"
   ]
  },
  {
   "cell_type": "markdown",
   "id": "ed2337f3",
   "metadata": {},
   "source": [
    "#### * Number of Movies BY SINGLE GENRE"
   ]
  },
  {
   "cell_type": "code",
   "execution_count": 227,
   "id": "c05acc27",
   "metadata": {},
   "outputs": [
    {
     "data": {
      "text/plain": [
       "Drama          892\n",
       "Comedy         534\n",
       "Action         448\n",
       "Adventure      351\n",
       "Thriller       261\n",
       "Crime          234\n",
       "Romance        200\n",
       "Documentary    190\n",
       "Horror         174\n",
       "Biography      142\n",
       "Sci-Fi         139\n",
       "Fantasy        122\n",
       "Mystery        119\n",
       "Family         102\n",
       "Animation      101\n",
       "Music           55\n",
       "History         52\n",
       "Sport           45\n",
       "War             32\n",
       "Western         16\n",
       "Musical         13\n",
       "News             4\n",
       "Name: genre_list, dtype: int64"
      ]
     },
     "execution_count": 227,
     "metadata": {},
     "output_type": "execute_result"
    }
   ],
   "source": [
    "movie_genre_data['genre_list'].value_counts()"
   ]
  },
  {
   "cell_type": "code",
   "execution_count": 228,
   "id": "3a43c20a",
   "metadata": {},
   "outputs": [
    {
     "data": {
      "image/png": "[encoded data removed]",
      "text/plain": [
       "<Figure size 864x720 with 1 Axes>"
      ]
     },
     "metadata": {
      "needs_background": "light"
     },
     "output_type": "display_data"
    }
   ],
   "source": [
    "movie_genre_num = movie_genre_data['genre_list'].value_counts(ascending=True)\n",
    "color_n = ['red' if num >= 400  else 'blue' for num in movie_genre_num]\n",
    "ax = movie_genre_num.plot(kind='barh', color=color_n, alpha=0.7, figsize=(12, 10))\n",
    "ax.set_title('Number of Movies by Single Genre', color='Brown', size=20)\n",
    "ax.set_xlabel('Number of Movies', color='Blue', size=12)\n",
    "ax.set_ylabel('Movie GENRE', color='Red', size=12)\n",
    "ax.grid(True, axis='x');"
   ]
  },
  {
   "cell_type": "markdown",
   "id": "20ddef76",
   "metadata": {},
   "source": [
    "Among the 4,226 sample, **'Drama'** is the most released movie genre then Comedy and Action. "
   ]
  },
  {
   "cell_type": "markdown",
   "id": "32dbba95",
   "metadata": {},
   "source": [
    "#### * ROI BY SINGLE GENRE"
   ]
  },
  {
   "cell_type": "code",
   "execution_count": 229,
   "id": "1ddf34d5",
   "metadata": {},
   "outputs": [
    {
     "data": {
      "text/plain": [
       "count    22.000000\n",
       "mean      3.457931\n",
       "std       0.645103\n",
       "min       2.411875\n",
       "25%       2.896410\n",
       "50%       3.483092\n",
       "75%       3.895300\n",
       "max       4.530396\n",
       "Name: return_on_investment, dtype: float64"
      ]
     },
     "execution_count": 229,
     "metadata": {},
     "output_type": "execute_result"
    }
   ],
   "source": [
    "movie_genre_roi = movie_genre_data.groupby('genre_list').mean()['return_on_investment'].sort_values(ascending=True)\n",
    "movie_genre_roi.describe()"
   ]
  },
  {
   "cell_type": "code",
   "execution_count": 230,
   "id": "3aead801",
   "metadata": {},
   "outputs": [
    {
     "data": {
      "text/plain": [
       "genre_list\n",
       "Western        2.411875\n",
       "War            2.537187\n",
       "News           2.585000\n",
       "Sport          2.624444\n",
       "Documentary    2.770105\n",
       "Crime          2.871496\n",
       "History        2.971154\n",
       "Biography      3.281408\n",
       "Drama          3.334832\n",
       "Thriller       3.360536\n",
       "Action         3.461183\n",
       "Fantasy        3.505000\n",
       "Family         3.561961\n",
       "Comedy         3.783764\n",
       "Romance        3.822500\n",
       "Adventure      3.887236\n",
       "Horror         3.897989\n",
       "Sci-Fi         4.034748\n",
       "Music          4.153636\n",
       "Mystery        4.165714\n",
       "Musical        4.522308\n",
       "Animation      4.530396\n",
       "Name: return_on_investment, dtype: float64"
      ]
     },
     "execution_count": 230,
     "metadata": {},
     "output_type": "execute_result"
    }
   ],
   "source": [
    "movie_genre_roi"
   ]
  },
  {
   "cell_type": "code",
   "execution_count": 231,
   "id": "5c4fc867",
   "metadata": {},
   "outputs": [
    {
     "data": {
      "image/png": "[encoded data removed]",
      "text/plain": [
       "<Figure size 1008x360 with 1 Axes>"
      ]
     },
     "metadata": {
      "needs_background": "light"
     },
     "output_type": "display_data"
    }
   ],
   "source": [
    "color_g = ['red' if roi > 4  else 'green' for roi in movie_genre_roi]\n",
    "ax = movie_genre_roi.plot(kind='bar', color=color_g, alpha = 0.7, rot=35, figsize=(14, 5))\n",
    "ax.set_title('Average ROI By Single Genre', size=20)\n",
    "ax.set_xlabel('Movie GENRE', color='Blue', size=12)\n",
    "ax.set_ylabel('Average ROI', color='Red', size=12)\n",
    "ax.set_ylim(2, 5)\n",
    "ax.grid(True, axis='y');"
   ]
  },
  {
   "cell_type": "markdown",
   "id": "9d23e231",
   "metadata": {},
   "source": [
    "The most profitable movie genre is the **<span style='color:red'>'Animation'</span>** then **<span style='color:blue'>'Musical', 'Mystery', 'Music' and  'Sci-Fi'</span>**  follows it."
   ]
  },
  {
   "cell_type": "code",
   "execution_count": 232,
   "id": "97ae9de1",
   "metadata": {},
   "outputs": [
    {
     "data": {
      "image/png": "[encoded data removed]",
      "text/plain": [
       "<Figure size 864x576 with 2 Axes>"
      ]
     },
     "metadata": {
      "needs_background": "light"
     },
     "output_type": "display_data"
    }
   ],
   "source": [
    "fig, axes = plt.subplots(1, 2, figsize=(12, 8), constrained_layout=True)\n",
    "\n",
    "color_n = ['red' if num >= 400  else 'blue' for num in movie_genre_num]\n",
    "ax1 = movie_genre_num.plot(ax=axes[0], kind='barh', color=color_n, alpha=0.7)\n",
    "ax1.set_title('Number of Movies by Single Genre', size=15)\n",
    "ax1.set_xlabel('Number of Movies', color='Blue', size=12)\n",
    "ax1.set_ylabel('Movie GENRE', color='Red', size=12)\n",
    "ax1.grid(True, axis='x')\n",
    "\n",
    "color_g = ['red' if roi > 4  else 'green' for roi in movie_genre_roi]\n",
    "ax2 = movie_genre_roi.plot(ax=axes[1], kind='barh', color=color_g, alpha=0.7, rot=0)\n",
    "ax2.set_title('Average ROI By Single Genre', size=15)\n",
    "ax2.set_xlabel('Average ROI', color='Blue', size=12)\n",
    "ax2.set_xlim(2, 5)\n",
    "ax2.set_ylabel('')\n",
    "ax2.grid(True, axis='x');"
   ]
  },
  {
   "cell_type": "markdown",
   "id": "bab73b71",
   "metadata": {},
   "source": [
    "The <span style='color:blue'>high 'ROI'</span> movie genres are <span style='color:red'>Animation', 'Musical', 'Mystery', 'Music' and 'Sci-Fi'</span>, whereas the <span style='color:brown'>most released</span> movie genres are <span style='color:purple'>'Drama', 'Comedy' and 'Action'</span>."
   ]
  },
  {
   "cell_type": "markdown",
   "id": "40f755e5",
   "metadata": {},
   "source": [
    "### <span style='color:brown'>*  Analyzing with MIXED GENRE</span>"
   ]
  },
  {
   "cell_type": "markdown",
   "id": "90408c93",
   "metadata": {},
   "source": [
    "However, almost all movies are made by mixing two or more genres. Therefore, it is necessary to examine the ROI of **mixed genres** movies."
   ]
  },
  {
   "cell_type": "markdown",
   "id": "374efa63",
   "metadata": {},
   "source": [
    "#### * Number of Movies BY MIXED GENRE"
   ]
  },
  {
   "cell_type": "code",
   "execution_count": 233,
   "id": "0ee6629e",
   "metadata": {},
   "outputs": [
    {
     "data": {
      "text/plain": [
       "Drama                         174\n",
       "Documentary                   125\n",
       "Comedy                         77\n",
       "Adventure,Animation,Comedy     59\n",
       "Comedy,Drama                   53\n",
       "                             ... \n",
       "Action,Mystery,Sci-Fi           1\n",
       "Adventure,Drama,Western         1\n",
       "Fantasy,Musical                 1\n",
       "Comedy,Sci-Fi                   1\n",
       "Documentary,Drama,Family        1\n",
       "Name: genres, Length: 273, dtype: int64"
      ]
     },
     "execution_count": 233,
     "metadata": {},
     "output_type": "execute_result"
    }
   ],
   "source": [
    "movie_clean_data['genres'].value_counts()"
   ]
  },
  {
   "cell_type": "code",
   "execution_count": 234,
   "id": "6f6a2069",
   "metadata": {},
   "outputs": [
    {
     "data": {
      "image/png": "[encoded data removed]",
      "text/plain": [
       "<Figure size 864x720 with 1 Axes>"
      ]
     },
     "metadata": {
      "needs_background": "light"
     },
     "output_type": "display_data"
    }
   ],
   "source": [
    "# Select Top 22 Mixed Genres to compare with single Genre\n",
    "\n",
    "movie_mixed_genre_num = movie_clean_data['genres'].value_counts(ascending=True).tail(22)\n",
    "color_n = ['red' if m > 60  else 'blue' for m in movie_mixed_genre_num]\n",
    "ax = movie_mixed_genre_num.plot(kind='barh', color=color_n, alpha=0.7, figsize=(12, 10))\n",
    "ax.set_title('Number of Movies by Mixed Genre', color='Brown', size=20)\n",
    "ax.set_xlabel('Number of Movies', color='Blue', size=12)\n",
    "ax.set_ylabel('Movie GENRE', color='Red', size=12)\n",
    "ax.grid(True, axis='x');"
   ]
  },
  {
   "cell_type": "markdown",
   "id": "68910c03",
   "metadata": {},
   "source": [
    "Also, **'Drama'** is the most released movie genre."
   ]
  },
  {
   "cell_type": "markdown",
   "id": "8efbf12b",
   "metadata": {},
   "source": [
    "#### * ROI BY MIXED GENRE"
   ]
  },
  {
   "cell_type": "code",
   "execution_count": 235,
   "id": "bda18fb3",
   "metadata": {},
   "outputs": [
    {
     "data": {
      "text/plain": [
       "genres\n",
       "Fantasy,Musical                  6.800000\n",
       "Drama,Music,Musical              6.850000\n",
       "Drama,Music,Romance              6.868333\n",
       "Action,Drama,Sport               7.140000\n",
       "Animation,Comedy,Family          7.298571\n",
       "Mystery                          7.353333\n",
       "Adventure,Family                 7.420000\n",
       "Mystery,Sci-Fi,Thriller          7.700000\n",
       "Adventure,Comedy,Horror          8.230000\n",
       "Adventure,Biography,Comedy       8.330000\n",
       "Comedy,Romance,Sci-Fi            8.570000\n",
       "Fantasy,Horror                   8.970000\n",
       "Action,Documentary,Drama         9.420000\n",
       "Adventure,Drama,Fantasy          9.770000\n",
       "Horror,Mystery,Sci-Fi           10.835000\n",
       "Comedy,Mystery                  10.945000\n",
       "Comedy,Fantasy,Sci-Fi           11.180000\n",
       "Drama,Mystery                   11.330000\n",
       "Drama,Fantasy,Music             11.710000\n",
       "Adventure,Drama,Western         12.100000\n",
       "Animation,Documentary,Sci-Fi    12.610000\n",
       "Action,Mystery,Sci-Fi           13.260000\n",
       "Name: return_on_investment, dtype: float64"
      ]
     },
     "execution_count": 235,
     "metadata": {},
     "output_type": "execute_result"
    }
   ],
   "source": [
    "# Select Top 22 Mixed Genres to compare with single Genre\n",
    "\n",
    "movie_mixed_genre_roi = movie_clean_data.groupby('genres').mean()['return_on_investment'].sort_values(ascending=True).tail(22)\n",
    "movie_mixed_genre_roi"
   ]
  },
  {
   "cell_type": "code",
   "execution_count": 236,
   "id": "88930208",
   "metadata": {},
   "outputs": [
    {
     "data": {
      "image/png": "[encoded data removed]",
      "text/plain": [
       "<Figure size 1008x360 with 1 Axes>"
      ]
     },
     "metadata": {
      "needs_background": "light"
     },
     "output_type": "display_data"
    }
   ],
   "source": [
    "color_g = ['red' if roi >= 11  else 'green' for roi in movie_mixed_genre_roi]\n",
    "ax = movie_mixed_genre_roi.plot(kind='bar', color=color_g, alpha = 0.7, rot=60, figsize=(14, 5))\n",
    "ax.set_title('Average ROI By Mixed Genre', size=20)\n",
    "ax.set_xlabel('Movie GENRE', color='Blue', size=12)\n",
    "ax.set_ylabel('Average ROI', color='Red', size=12)\n",
    "ax.set_ylim(6, 14)\n",
    "ax.grid(True, axis='y');"
   ]
  },
  {
   "cell_type": "markdown",
   "id": "91b0130e",
   "metadata": {},
   "source": [
    "A  mixture of **Action-Mystery-Sci-Fi** is the most profitable, then ***Animation-Documentary-Sci-Fi, Adventure-Drama-Western, Drama-Fantasy-Music, Drama-Mystery, and Comedy-Fantasy-Sci-Fi***."
   ]
  },
  {
   "cell_type": "code",
   "execution_count": 237,
   "id": "b4e21f37",
   "metadata": {},
   "outputs": [
    {
     "data": {
      "image/png": "[encoded data removed]",
      "text/plain": [
       "<Figure size 864x576 with 2 Axes>"
      ]
     },
     "metadata": {
      "needs_background": "light"
     },
     "output_type": "display_data"
    }
   ],
   "source": [
    "fig, axes = plt.subplots(1, 2, figsize=(12, 8), constrained_layout=True)\n",
    "\n",
    "color_sg = ['red' if roi > 4  else 'green' for roi in movie_genre_roi]\n",
    "ax1 = movie_genre_roi.plot(ax=axes[0], kind='barh', color=color_sg, alpha=0.7, rot=0)\n",
    "ax1.set_title('Average ROI By Single Genre', size=15)\n",
    "ax1.set_xlabel('Average ROI', color='Blue', size=12)\n",
    "ax1.set_xlim(2, 5)\n",
    "ax1.set_ylabel('')\n",
    "ax1.grid(True, axis='x')\n",
    "\n",
    "color_mg = ['red' if roi >= 11  else 'green' for roi in movie_mixed_genre_roi]\n",
    "ax2 = movie_mixed_genre_roi.plot(ax=axes[1], kind='barh', color=color_mg, alpha=0.7, rot=0)\n",
    "ax2.set_title('Average ROI By Mixed Genre', size=15)\n",
    "ax2.set_xlabel('Average ROI', color='Blue', size=12)\n",
    "ax2.set_xlim(6, 14)\n",
    "ax2.set_ylabel('')\n",
    "ax2.grid(True, axis='x');"
   ]
  },
  {
   "cell_type": "markdown",
   "id": "6cfc4d41",
   "metadata": {},
   "source": [
    "Most profitable ***Single genres*** : **Animation, Musical, Mystery, Music, Sci-Fi**    \n",
    "                ***Mixed genres*** : **Action-Mystery-Sci-Fi, Animation-Documentary- Sci-Fi, Adventure-Drama-Western, \n",
    "               Drama-Fantasy-Music, Drama-Mystery, Comedy-Fantasy-Sci-fi.**   \n",
    "The genres that appear in common and most frequently in the single and mixed genres are **Mystery, Sci-Fi, Animation, Drama, Fantasy**. So, it seems good to **mix 2 or more of these genres** to make a movie."
   ]
  },
  {
   "cell_type": "markdown",
   "id": "d66e48c5",
   "metadata": {},
   "source": [
    "## <span style='color:blue'>2. How Much to Invest (BUDGET)</span>"
   ]
  },
  {
   "cell_type": "markdown",
   "id": "9591909b",
   "metadata": {},
   "source": [
    "The second issue is the **Budget**.  ***How much money to invest*** also  matters when making a movie."
   ]
  },
  {
   "cell_type": "markdown",
   "id": "5199e0fd",
   "metadata": {},
   "source": [
    "#### * Segment the budget"
   ]
  },
  {
   "cell_type": "code",
   "execution_count": 238,
   "id": "308f8047",
   "metadata": {},
   "outputs": [
    {
     "data": {
      "text/plain": [
       "[0,\n",
       " 20,\n",
       " 40,\n",
       " 60,\n",
       " 80,\n",
       " 100,\n",
       " 120,\n",
       " 140,\n",
       " 160,\n",
       " 180,\n",
       " 200,\n",
       " 220,\n",
       " 240,\n",
       " 260,\n",
       " 280,\n",
       " 300,\n",
       " 320,\n",
       " 340,\n",
       " 360,\n",
       " 380,\n",
       " 400,\n",
       " 420,\n",
       " 440]"
      ]
     },
     "execution_count": 238,
     "metadata": {},
     "output_type": "execute_result"
    }
   ],
   "source": [
    "# make 22 bins in increments of 20 Million\n",
    "\n",
    "bins = list(range(0, 460, 20))\n",
    "bins"
   ]
  },
  {
   "cell_type": "code",
   "execution_count": 239,
   "id": "2d60883c",
   "metadata": {},
   "outputs": [
    {
     "data": {
      "text/html": [
       "<div>\n",
       "<style scoped>\n",
       "    .dataframe tbody tr th:only-of-type {\n",
       "        vertical-align: middle;\n",
       "    }\n",
       "\n",
       "    .dataframe tbody tr th {\n",
       "        vertical-align: top;\n",
       "    }\n",
       "\n",
       "    .dataframe thead th {\n",
       "        text-align: right;\n",
       "    }\n",
       "</style>\n",
       "<table border=\"1\" class=\"dataframe\">\n",
       "  <thead>\n",
       "    <tr style=\"text-align: right;\">\n",
       "      <th></th>\n",
       "      <th>movie_title</th>\n",
       "      <th>production_budget</th>\n",
       "      <th>return_on_investment</th>\n",
       "      <th>release_month</th>\n",
       "      <th>genres</th>\n",
       "      <th>genre_list</th>\n",
       "      <th>budget_size</th>\n",
       "    </tr>\n",
       "  </thead>\n",
       "  <tbody>\n",
       "    <tr>\n",
       "      <th>0</th>\n",
       "      <td>Avatar</td>\n",
       "      <td>425.00</td>\n",
       "      <td>8.32</td>\n",
       "      <td>12</td>\n",
       "      <td>Horror</td>\n",
       "      <td>[Horror]</td>\n",
       "      <td>Less than 440</td>\n",
       "    </tr>\n",
       "    <tr>\n",
       "      <th>1</th>\n",
       "      <td>Pirates of the Caribbean: On Stranger Tides</td>\n",
       "      <td>410.60</td>\n",
       "      <td>3.13</td>\n",
       "      <td>5</td>\n",
       "      <td>Action,Adventure,Fantasy</td>\n",
       "      <td>[Action, Adventure, Fantasy]</td>\n",
       "      <td>Less than 420</td>\n",
       "    </tr>\n",
       "    <tr>\n",
       "      <th>2</th>\n",
       "      <td>Dark Phoenix</td>\n",
       "      <td>350.00</td>\n",
       "      <td>0.55</td>\n",
       "      <td>6</td>\n",
       "      <td>Action,Adventure,Sci-Fi</td>\n",
       "      <td>[Action, Adventure, Sci-Fi]</td>\n",
       "      <td>Less than 360</td>\n",
       "    </tr>\n",
       "    <tr>\n",
       "      <th>3</th>\n",
       "      <td>Avengers: Age of Ultron</td>\n",
       "      <td>330.60</td>\n",
       "      <td>5.63</td>\n",
       "      <td>5</td>\n",
       "      <td>Action,Adventure,Sci-Fi</td>\n",
       "      <td>[Action, Adventure, Sci-Fi]</td>\n",
       "      <td>Less than 340</td>\n",
       "    </tr>\n",
       "    <tr>\n",
       "      <th>4</th>\n",
       "      <td>Avengers: Infinity War</td>\n",
       "      <td>300.00</td>\n",
       "      <td>9.09</td>\n",
       "      <td>4</td>\n",
       "      <td>Action,Adventure,Sci-Fi</td>\n",
       "      <td>[Action, Adventure, Sci-Fi]</td>\n",
       "      <td>Less than 320</td>\n",
       "    </tr>\n",
       "    <tr>\n",
       "      <th>...</th>\n",
       "      <td>...</td>\n",
       "      <td>...</td>\n",
       "      <td>...</td>\n",
       "      <td>...</td>\n",
       "      <td>...</td>\n",
       "      <td>...</td>\n",
       "      <td>...</td>\n",
       "    </tr>\n",
       "    <tr>\n",
       "      <th>3322</th>\n",
       "      <td>Counting</td>\n",
       "      <td>0.05</td>\n",
       "      <td>0.33</td>\n",
       "      <td>7</td>\n",
       "      <td>Documentary</td>\n",
       "      <td>[Documentary]</td>\n",
       "      <td>Less than 20</td>\n",
       "    </tr>\n",
       "    <tr>\n",
       "      <th>3323</th>\n",
       "      <td>Raymond Did It</td>\n",
       "      <td>0.04</td>\n",
       "      <td>0.18</td>\n",
       "      <td>2</td>\n",
       "      <td>Horror</td>\n",
       "      <td>[Horror]</td>\n",
       "      <td>Less than 20</td>\n",
       "    </tr>\n",
       "    <tr>\n",
       "      <th>3324</th>\n",
       "      <td>Krisha</td>\n",
       "      <td>0.03</td>\n",
       "      <td>9.65</td>\n",
       "      <td>3</td>\n",
       "      <td>Drama</td>\n",
       "      <td>[Drama]</td>\n",
       "      <td>Less than 20</td>\n",
       "    </tr>\n",
       "    <tr>\n",
       "      <th>3327</th>\n",
       "      <td>Emily</td>\n",
       "      <td>0.03</td>\n",
       "      <td>0.26</td>\n",
       "      <td>1</td>\n",
       "      <td>Documentary</td>\n",
       "      <td>[Documentary]</td>\n",
       "      <td>Less than 20</td>\n",
       "    </tr>\n",
       "    <tr>\n",
       "      <th>3333</th>\n",
       "      <td>Newlyweds</td>\n",
       "      <td>0.01</td>\n",
       "      <td>1.02</td>\n",
       "      <td>1</td>\n",
       "      <td>Comedy,Drama</td>\n",
       "      <td>[Comedy, Drama]</td>\n",
       "      <td>Less than 20</td>\n",
       "    </tr>\n",
       "  </tbody>\n",
       "</table>\n",
       "<p>1876 rows × 7 columns</p>\n",
       "</div>"
      ],
      "text/plain": [
       "                                      movie_title  production_budget  \\\n",
       "0                                          Avatar             425.00   \n",
       "1     Pirates of the Caribbean: On Stranger Tides             410.60   \n",
       "2                                    Dark Phoenix             350.00   \n",
       "3                         Avengers: Age of Ultron             330.60   \n",
       "4                          Avengers: Infinity War             300.00   \n",
       "...                                           ...                ...   \n",
       "3322                                     Counting               0.05   \n",
       "3323                               Raymond Did It               0.04   \n",
       "3324                                       Krisha               0.03   \n",
       "3327                                        Emily               0.03   \n",
       "3333                                    Newlyweds               0.01   \n",
       "\n",
       "      return_on_investment  release_month                    genres  \\\n",
       "0                     8.32             12                    Horror   \n",
       "1                     3.13              5  Action,Adventure,Fantasy   \n",
       "2                     0.55              6   Action,Adventure,Sci-Fi   \n",
       "3                     5.63              5   Action,Adventure,Sci-Fi   \n",
       "4                     9.09              4   Action,Adventure,Sci-Fi   \n",
       "...                    ...            ...                       ...   \n",
       "3322                  0.33              7               Documentary   \n",
       "3323                  0.18              2                    Horror   \n",
       "3324                  9.65              3                     Drama   \n",
       "3327                  0.26              1               Documentary   \n",
       "3333                  1.02              1              Comedy,Drama   \n",
       "\n",
       "                        genre_list    budget_size  \n",
       "0                         [Horror]  Less than 440  \n",
       "1     [Action, Adventure, Fantasy]  Less than 420  \n",
       "2      [Action, Adventure, Sci-Fi]  Less than 360  \n",
       "3      [Action, Adventure, Sci-Fi]  Less than 340  \n",
       "4      [Action, Adventure, Sci-Fi]  Less than 320  \n",
       "...                            ...            ...  \n",
       "3322                 [Documentary]   Less than 20  \n",
       "3323                      [Horror]   Less than 20  \n",
       "3324                       [Drama]   Less than 20  \n",
       "3327                 [Documentary]   Less than 20  \n",
       "3333               [Comedy, Drama]   Less than 20  \n",
       "\n",
       "[1876 rows x 7 columns]"
      ]
     },
     "execution_count": 239,
     "metadata": {},
     "output_type": "execute_result"
    }
   ],
   "source": [
    "# segment the production budget into 22 bins \n",
    "\n",
    "bins = list(range(0, 460, 20))\n",
    "labels = [\"Less than \"+ str(x + 20) for x in bins]\n",
    "movie_clean_data['budget_size'] = pd.cut(movie_clean_data[\"production_budget\"], bins = bins, right=False, labels = labels[:-1])\n",
    "movie_clean_data"
   ]
  },
  {
   "cell_type": "markdown",
   "id": "45cfb585",
   "metadata": {},
   "source": [
    "#### * Number of Movies by Budget Size"
   ]
  },
  {
   "cell_type": "code",
   "execution_count": 240,
   "id": "d9f61b90",
   "metadata": {},
   "outputs": [
    {
     "data": {
      "text/plain": [
       "Less than 20     827\n",
       "Less than 40     433\n",
       "Less than 60     208\n",
       "Less than 80     118\n",
       "Less than 100     75\n",
       "Less than 120     43\n",
       "Less than 140     42\n",
       "Less than 160     35\n",
       "Less than 180     36\n",
       "Less than 200     18\n",
       "Less than 220     19\n",
       "Less than 240      4\n",
       "Less than 260      6\n",
       "Less than 280      5\n",
       "Less than 300      0\n",
       "Less than 320      3\n",
       "Less than 340      1\n",
       "Less than 360      1\n",
       "Less than 380      0\n",
       "Less than 400      0\n",
       "Less than 420      1\n",
       "Less than 440      1\n",
       "Name: budget_size, dtype: int64"
      ]
     },
     "execution_count": 240,
     "metadata": {},
     "output_type": "execute_result"
    }
   ],
   "source": [
    "movie_budget_num = movie_clean_data['budget_size'].value_counts().sort_index()\n",
    "movie_budget_num"
   ]
  },
  {
   "cell_type": "code",
   "execution_count": 241,
   "id": "3e502c65",
   "metadata": {},
   "outputs": [
    {
     "data": {
      "image/png": "[encoded data removed]",
      "text/plain": [
       "<Figure size 1080x504 with 1 Axes>"
      ]
     },
     "metadata": {
      "needs_background": "light"
     },
     "output_type": "display_data"
    }
   ],
   "source": [
    "color_n = ['red' if num > 150  else 'orange' for num in movie_budget_num]\n",
    "x = movie_budget_num.index\n",
    "y = movie_budget_num\n",
    "plt.figure(figsize=(15, 7))\n",
    "plt.xticks(rotation = 35, size=12)\n",
    "plt.title('NUMBER of Released MOVIES by BUDGET SIZE', size=20)\n",
    "plt.xlabel(\"Budget Size (Unit : Million Dollar)\", color='red', size=12)\n",
    "plt.ylabel(\"Number of Movies\", color='blue', size=12)\n",
    "plt.grid(axis = 'y')\n",
    "plt.bar(x, y, color = color_n, alpha = 0.7)\n",
    "for i, v in enumerate(x):\n",
    "    plt.text(v, y[i], y[i], fontsize = 15, color='blue', horizontalalignment='center',  verticalalignment='bottom')\n",
    "plt.annotate('To here, 90% movies', xy=(4.15, 120), xytext=(4.3, 400), arrowprops=dict(facecolor='purple', shrink=0.1, alpha=0.8));"
   ]
  },
  {
   "cell_type": "markdown",
   "id": "26342d67",
   "metadata": {},
   "source": [
    "**Less than 20 Million Dollar Budget Size** has the largest number of movies (about 45%) and about 90% of movies were made with a budget of 100 Million or less."
   ]
  },
  {
   "cell_type": "markdown",
   "id": "f6be911e",
   "metadata": {},
   "source": [
    "#### * ROI by Budget Size"
   ]
  },
  {
   "cell_type": "code",
   "execution_count": 242,
   "id": "1e9cccfd",
   "metadata": {},
   "outputs": [
    {
     "data": {
      "text/plain": [
       "budget_size\n",
       "Less than 20     3.302624\n",
       "Less than 40     3.310185\n",
       "Less than 60     3.380192\n",
       "Less than 80     3.332458\n",
       "Less than 100    3.755200\n",
       "Less than 120    3.560698\n",
       "Less than 140    4.161667\n",
       "Less than 160    3.752571\n",
       "Less than 180    4.528889\n",
       "Less than 200    4.018333\n",
       "Less than 220    6.126842\n",
       "Less than 240    3.700000\n",
       "Less than 260    5.295000\n",
       "Less than 280    2.674000\n",
       "Less than 300         NaN\n",
       "Less than 320    5.213333\n",
       "Less than 340    5.630000\n",
       "Less than 360    0.550000\n",
       "Less than 380         NaN\n",
       "Less than 400         NaN\n",
       "Less than 420    3.130000\n",
       "Less than 440    8.320000\n",
       "Name: return_on_investment, dtype: float64"
      ]
     },
     "execution_count": 242,
     "metadata": {},
     "output_type": "execute_result"
    }
   ],
   "source": [
    "movie_budget_roi = movie_clean_data.groupby('budget_size').mean()['return_on_investment']\n",
    "movie_budget_roi"
   ]
  },
  {
   "cell_type": "code",
   "execution_count": 243,
   "id": "a88f01b1",
   "metadata": {},
   "outputs": [
    {
     "data": {
      "image/png": "[encoded data removed]",
      "text/plain": [
       "<Figure size 1080x504 with 1 Axes>"
      ]
     },
     "metadata": {
      "needs_background": "light"
     },
     "output_type": "display_data"
    }
   ],
   "source": [
    "ax = movie_budget_roi.plot(color='hotpink', ls='dashed', marker='o', markersize=10, markerfacecolor='r', rot=35, figsize=(15, 7))\n",
    "ax.set_title('Average ROI by Budget Size', size=20)\n",
    "ax.set_xlabel('Budget Size (Unit : Million Dollar)', color='blue', size=12)\n",
    "ax.set_xticks(range(0, len(movie_budget_roi.index)))\n",
    "ax.set_xticklabels(movie_budget_roi.index)\n",
    "ax.set_ylabel('Average ROI', color='red', size=12)\n",
    "ax.grid(True, color='lightblue')\n",
    "ax.annotate('To here, 90% movies', xy=(4.0, 4), xytext=(4.1, 7), arrowprops=dict(facecolor='purple', shrink=0.1, alpha=0.8));"
   ]
  },
  {
   "cell_type": "markdown",
   "id": "131309da",
   "metadata": {},
   "source": [
    "Of the 1876 movies, 90% of movies are with a budget of less than 1 million, and their ROI does not show much difference.   The movies made on a budget of over 1 million are too few to be considered."
   ]
  },
  {
   "cell_type": "code",
   "execution_count": 244,
   "id": "dc6829f4",
   "metadata": {},
   "outputs": [
    {
     "data": {
      "image/png": "[encoded data removed]",
      "text/plain": [
       "<Figure size 1080x504 with 2 Axes>"
      ]
     },
     "metadata": {
      "needs_background": "light"
     },
     "output_type": "display_data"
    }
   ],
   "source": [
    "plt.rcParams['figure.figsize'] = (15, 7)\n",
    "fig, ax1 = plt.subplots()\n",
    "\n",
    "x = movie_budget_roi.index\n",
    "y = movie_budget_roi\n",
    "ax1.plot( x, y, color='hotpink', ls='dashed', marker='o', markersize=8, markerfacecolor='r', label='Return on Investment')\n",
    "ax1.set_title('Number of Released Movies and ROI   BY BUDGET SIZE', color='blue', size=20)\n",
    "ax1.set_xlabel('Budget SIZE ( Unit ; Million Dollar)', color='purple', size=12)\n",
    "ax1.tick_params(axis='x', rotation=35)\n",
    "ax1.set_ylabel('Average ROI', size=12, color='red')\n",
    "ax1.tick_params(axis='y', labelcolor='red', direction='in')\n",
    "ax1.grid(True, color='lightblue')\n",
    "ax1.annotate('1 movie', xy=(21, 8.3), xytext=(18, 8.2), arrowprops=dict(facecolor='b', shrink=0.2, alpha=0.8))\n",
    "\n",
    "color_n = ['blue' if num > 150  else 'orange' for num in movie_budget_num]\n",
    "x2 = movie_budget_num.index\n",
    "y2 = movie_budget_num\n",
    "ax2 = ax1.twinx()\n",
    "ax2.bar(x2, y2, color=color_n, alpha=0.5, label='Number of Released Movies',)\n",
    "ax2.set_ylabel('Number of Movies', size=12, color='blue')\n",
    "ax2.tick_params(axis='y', labelcolor='blue', direction='in')\n",
    "ax2.annotate('To here, 90% movies', xy=(4.1, 350), xytext=(4.3, 600), arrowprops=dict(facecolor='r', shrink=0.2, alpha=0.8))\n",
    "\n",
    "ax1.set_zorder(ax2.get_zorder() + 10)\n",
    "ax1.patch.set_visible(False)\n",
    "\n",
    "ax1.legend(loc='upper center')\n",
    "ax2.legend(loc = (0.4, 0.88));"
   ]
  },
  {
   "cell_type": "markdown",
   "id": "70335980",
   "metadata": {},
   "source": [
    "About 90% of movies are being made on a budget of less than 1 million, so it seems reasonable not to exceed 1 million as a budget."
   ]
  },
  {
   "cell_type": "markdown",
   "id": "b6a6fba2",
   "metadata": {},
   "source": [
    "## <span style='color:blue'>3. When To Release</span>"
   ]
  },
  {
   "cell_type": "markdown",
   "id": "ba57ff0b",
   "metadata": {},
   "source": [
    "In the film industry, it is also considered very important to set the release date of the produced film."
   ]
  },
  {
   "cell_type": "markdown",
   "id": "54d1fb82",
   "metadata": {},
   "source": [
    "#### * Number of Released Movies By Month"
   ]
  },
  {
   "cell_type": "code",
   "execution_count": 245,
   "id": "fe46a4ca",
   "metadata": {},
   "outputs": [
    {
     "data": {
      "text/plain": [
       "1     121\n",
       "2     127\n",
       "3     166\n",
       "4     167\n",
       "5     129\n",
       "6     151\n",
       "7     139\n",
       "8     156\n",
       "9     180\n",
       "10    185\n",
       "11    167\n",
       "12    188\n",
       "Name: release_month, dtype: int64"
      ]
     },
     "execution_count": 245,
     "metadata": {},
     "output_type": "execute_result"
    }
   ],
   "source": [
    "movie_data_month = movie_clean_data['release_month'].value_counts().sort_index()\n",
    "movie_data_month"
   ]
  },
  {
   "cell_type": "code",
   "execution_count": 246,
   "id": "82bf2f06",
   "metadata": {},
   "outputs": [
    {
     "data": {
      "image/png": "[encoded data removed]",
      "text/plain": [
       "<Figure size 1080x504 with 1 Axes>"
      ]
     },
     "metadata": {
      "needs_background": "light"
     },
     "output_type": "display_data"
    }
   ],
   "source": [
    "color_n = ['red' if m >= 170  else 'green' for m in movie_data_month]\n",
    "ax = movie_data_month.plot.bar(color=color_n, alpha=0.7, figsize = (15, 7), rot=0)\n",
    "ax.set_title('Number of Released Movies BY MONTH', color='brown', size = 20)\n",
    "ax.set_xlabel('Month', color='blue', size=12)\n",
    "ax.set_ylabel('Number of Movies', color='red', size=12)\n",
    "ax.set_ylim(110, 200)\n",
    "ax.grid(True, axis='y', color='gray')\n",
    "ax.annotate('188', xy=(11, 190), xytext=(11, 190), arrowprops=dict(facecolor='b', shrink=0.2, alpha=0.8))\n",
    "ax.annotate('185', xy=(9, 187), xytext=(9, 187), arrowprops=dict(facecolor='b', shrink=0.2, alpha=0.8))\n",
    "ax.annotate('180', xy=(8, 182), xytext=(8, 182), arrowprops=dict(facecolor='b', shrink=0.2, alpha=0.8));"
   ]
  },
  {
   "cell_type": "markdown",
   "id": "306e2fd8",
   "metadata": {},
   "source": [
    "The highest number of films was released in **December**, October, September. "
   ]
  },
  {
   "cell_type": "markdown",
   "id": "697d00ed",
   "metadata": {},
   "source": [
    "#### ROI By Month"
   ]
  },
  {
   "cell_type": "code",
   "execution_count": 247,
   "id": "39c8334e",
   "metadata": {},
   "outputs": [
    {
     "data": {
      "text/plain": [
       "release_month\n",
       "1     3.613802\n",
       "2     3.972677\n",
       "3     3.400723\n",
       "4     3.056048\n",
       "5     3.333953\n",
       "6     3.847417\n",
       "7     3.527122\n",
       "8     3.379679\n",
       "9     3.144222\n",
       "10    3.033027\n",
       "11    3.791976\n",
       "12    3.410691\n",
       "Name: return_on_investment, dtype: float64"
      ]
     },
     "execution_count": 247,
     "metadata": {},
     "output_type": "execute_result"
    }
   ],
   "source": [
    "movie_month_roi = movie_clean_data.groupby('release_month')['return_on_investment'].mean().sort_index()\n",
    "movie_month_roi"
   ]
  },
  {
   "cell_type": "code",
   "execution_count": 248,
   "id": "384ca7ff",
   "metadata": {},
   "outputs": [
    {
     "data": {
      "image/png": "[encoded data removed]",
      "text/plain": [
       "<Figure size 1080x504 with 1 Axes>"
      ]
     },
     "metadata": {
      "needs_background": "light"
     },
     "output_type": "display_data"
    }
   ],
   "source": [
    "ax = movie_month_roi.plot(color='hotpink', ls='dashed', marker='o', markersize=8, markerfacecolor='r', rot=0, figsize=(15, 7))\n",
    "ax.set_title('Average ROI BY MONTH ', color='purple', size = 20)\n",
    "ax.set_xlabel('Release Month', color='blue', size=12)\n",
    "# ax.set_xticks(range(0, len(movie_month_roi.index)))\n",
    "# ax.set_xticklabels(movie_month_roi.index)\n",
    "ax.set_xticks(np.arange(1, 13, 1))\n",
    "ax.set_ylabel('Average ROI', color='red', size=12)\n",
    "ax.set_ylim(2.8, 4.2)\n",
    "ax.grid(True, color='gray')\n",
    "ax.annotate('FEB (3.97)', xy=(2.1, 4.0), xytext=(3, 4.1), arrowprops=dict(facecolor='b', shrink=0.1, alpha=0.8))\n",
    "ax.annotate('JUNE (3.85)', xy=(6.2, 3.9), xytext=(7.1, 4), arrowprops=dict(facecolor='b', shrink=0.1, alpha=0.8))\n",
    "ax.annotate('NOV (3.79)', xy=(10.9, 3.8), xytext=(10, 4), arrowprops=dict(facecolor='b', shrink=0.1, alpha=0.8));"
   ]
  },
  {
   "cell_type": "markdown",
   "id": "6678444e",
   "metadata": {},
   "source": [
    "Films released in **<span style='color:red'>FEBRUARY,</span>  JUNE, NOVEMBER** are showing the best performance."
   ]
  },
  {
   "cell_type": "code",
   "execution_count": 249,
   "id": "7c307252",
   "metadata": {},
   "outputs": [
    {
     "data": {
      "image/png": "[encoded data removed]",
      "text/plain": [
       "<Figure size 1080x504 with 2 Axes>"
      ]
     },
     "metadata": {
      "needs_background": "light"
     },
     "output_type": "display_data"
    }
   ],
   "source": [
    "plt.rcParams['figure.figsize'] = (15, 7)\n",
    "fig, ax1 = plt.subplots()\n",
    "\n",
    "x = movie_month_roi.index\n",
    "y = movie_month_roi\n",
    "ax1.plot(x, y, color='hotpink', ls='dashed', marker='o', markersize=8, markerfacecolor='r', label='Return on Investment')\n",
    "ax1.set_title('Number of Released Movies and ROI   BY MONTH', color='black', size=20)\n",
    "ax1.set_xlabel('Release Month', color='blue', size=12)\n",
    "ax1.set_xticks(np.arange(1, 13, 1))\n",
    "ax1.set_ylabel('Average ROI', size=12, color='red')\n",
    "ax1.set_ylim(2.8, 4.2)\n",
    "ax1.tick_params(axis='y', labelcolor='red', direction='in')\n",
    "ax1.grid(True, color='lightblue')\n",
    "ax1.annotate('FEB', xy=(2.1, 4.0), xytext=(3.5, 4.1), arrowprops=dict(facecolor='r', shrink=0.1, alpha=0.8))\n",
    "ax1.annotate('JUNE', xy=(6.2, 3.85), xytext=(7.5, 3.9), arrowprops=dict(facecolor='r', shrink=0.1, alpha=0.8))\n",
    "ax1.annotate('NOV', xy=(11, 3.8), xytext=(11, 4), arrowprops=dict(facecolor='r', shrink=0.1, alpha=0.8))\n",
    "\n",
    "color_n = ['coral' if m >= 170  else 'deepskyblue' for m in movie_data_month]\n",
    "ax2 = ax1.twinx()\n",
    "ax2.bar(movie_data_month.index, movie_data_month, color=color_n, alpha=0.7, label='Number of Released Movies')\n",
    "ax2.set_ylim(110, 200)\n",
    "ax2.set_ylabel('Number of Movies', size=12, color='blue')\n",
    "ax2.tick_params(axis='y', labelcolor='blue', direction='in')\n",
    "ax2.annotate('188', xy=(12, 190), xytext=(12, 190), arrowprops=dict(facecolor='b', shrink=0.2, alpha=0.8))\n",
    "ax2.annotate('185', xy=(10, 187), xytext=(10, 187), arrowprops=dict(facecolor='b', shrink=0.2, alpha=0.8))\n",
    "ax2.annotate('180', xy=(9, 182), xytext=(9, 182), arrowprops=dict(facecolor='b', shrink=0.2, alpha=0.8))\n",
    "\n",
    "ax1.set_zorder(ax2.get_zorder() + 10)\n",
    "ax1.patch.set_visible(False)\n",
    "\n",
    "ax1.legend(loc='upper center')\n",
    "ax2.legend(loc = (0.4, 0.88));"
   ]
  },
  {
   "cell_type": "markdown",
   "id": "152feee5",
   "metadata": {},
   "source": [
    "A number of films were released in ***December, October, September***, but the profitability was not very good. Rather, **movies released in <span style='color:red'>FEBRUARY</span>, JUNE, NOVEMBER are showing the best profitability**."
   ]
  },
  {
   "cell_type": "code",
   "execution_count": 250,
   "id": "76dbfbc2",
   "metadata": {},
   "outputs": [],
   "source": [
    "conn.close()"
   ]
  },
  {
   "cell_type": "markdown",
   "id": "2b11f6fe",
   "metadata": {},
   "source": [
    "# Conclusion"
   ]
  },
  {
   "cell_type": "markdown",
   "id": "b5459b49",
   "metadata": {},
   "source": [
    "1. The <span style='color:blue'>high 'ROI'</span> movie genres are <span style='color:red'>Animation', 'Musical', 'Mystery', 'Music' and 'Sci-Fi'</span>, whereas the <span style='color:brown'>most released</span> movie genres are <span style='color:purple'>'Drama', 'Comedy' and 'Action'</span>.<br>\n",
    "However, a film cannot be made with just one genre. Therefore, it is necessary to mix several genres well, and as a result of this analysis, movies with the following genres mixed well showed good performance.<br>\n",
    "High profitable Genres - **Mystery, Sci-Fi, Animation, Drama, Fantasy**.<br>\n",
    "So, when making a movie, mixing 2 or more of these genres is recommended."
   ]
  },
  {
   "cell_type": "markdown",
   "id": "0066013e",
   "metadata": {},
   "source": [
    "2. About 45% of movies were made with a budget of 20 million dollars or less, and about 90% of movies were made with a budget of 100 million dollars or less, and their ROI does not show much difference.  \n",
    "The movies made on a budget of over 1 million are too few to be considered.  \n",
    "So, as a first time trying, it seems reasonable not to exceed 100 million dollars as a budget when making a movie."
   ]
  },
  {
   "cell_type": "markdown",
   "id": "eb34040a",
   "metadata": {},
   "source": [
    "3. A number of films were released in December, October, September but the profitability was not very good. Rather, **movies released in <span style='color:red'>FEBRUARY</span>, JUNE, NOVEMBER are showing the best profitability**.<br>So, when deciding when to release a movie, it is best to release it in **February**, then **June** and **November** are the second best."
   ]
  },
  {
   "cell_type": "code",
   "execution_count": null,
   "id": "dca02878",
   "metadata": {},
   "outputs": [],
   "source": []
  }
 ],
 "metadata": {
  "kernelspec": {
   "display_name": "Python 3",
   "language": "python",
   "name": "python3"
  },
  "language_info": {
   "codemirror_mode": {
    "name": "ipython",
    "version": 3
   },
   "file_extension": ".py",
   "mimetype": "text/x-python",
   "name": "python",
   "nbconvert_exporter": "python",
   "pygments_lexer": "ipython3",
   "version": "3.9.5"
  }
 },
 "nbformat": 4,
 "nbformat_minor": 5
}
